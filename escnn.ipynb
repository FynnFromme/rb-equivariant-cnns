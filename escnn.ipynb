{
 "cells": [
  {
   "cell_type": "code",
   "execution_count": 5,
   "metadata": {},
   "outputs": [],
   "source": [
    "import escnn\n",
    "from escnn import gspaces\n",
    "from escnn import nn\n",
    "from escnn.nn import GeometricTensor\n",
    "import torch\n",
    "import torch.nn.functional as F\n",
    "import numpy as np\n",
    "import math"
   ]
  },
  {
   "cell_type": "code",
   "execution_count": null,
   "metadata": {},
   "outputs": [],
   "source": [
    "\n",
    "\n",
    "# -> [t1, vx1, vy1, vz1, t2, vx2, vy2, vz2, t3, vx3, vy3, vz3]   (shape height*channels)\n",
    "# -> [0, 0, 0, 0, t1, vx1, vy1, vz1, t2, vx2, vy2, vz2,          (input for predicting h1)\n",
    "#     t1, vx1, vy1, vz1, t2, vx2, vy2, vz2, t3, vx3, vy3, vz3,   (input for predicting h2)\n",
    "#     t2, vx2, vy2, vz2, t3, vx3, vy3, vz3, 0, 0, 0, 0]          (input for predicting h3)\n",
    "def concat_vertical_neighborhoods(x, ksize, stride=1, pad=True):\n",
    "    \"\"\"[batch, width, depth, height, channels] -> [batch, width, depth, out_height*ksize*channels]\"\"\"\n",
    "    if pad:\n",
    "        # pad height\n",
    "        padding = required_same_padding(in_height=x.shape[-2], ksize=ksize, stride=stride)\n",
    "        x = F.pad(x, (0, 0, math.floor(padding/2), math.ceil(padding/2))) # shape: ... x paddedHeight x channels\n",
    "    \n",
    "    # compute neighborhoods\n",
    "    x = x.unfold(dimension=3, size=ksize, step=stride) # shape: ... x outHeight x channels x ksize\n",
    "    out_height = x.shape[3]\n",
    "    \n",
    "    # concatenate neighboroods\n",
    "    x = x.permute(0, 1, 2, 3, 5, 4) # shape: ... x outHeight x ksize x channels\n",
    "    x = x.flatten(start_dim=3) # shape: ... x outHeight*kksize*channels i.e. ... x group*inputOfGroup\n",
    "    \n",
    "    return x, out_height\n",
    "\n",
    "def required_same_padding(in_height, ksize, stride):\n",
    "    out_height = math.ceil(in_height/stride)\n",
    "    return (out_height-1) * stride - in_height + ksize"
   ]
  },
  {
   "cell_type": "markdown",
   "metadata": {},
   "source": [
    "## Discrete"
   ]
  },
  {
   "cell_type": "code",
   "execution_count": 9,
   "metadata": {},
   "outputs": [
    {
     "ename": "ValueError",
     "evalue": "not enough values to unpack (expected 2, got 1)",
     "output_type": "error",
     "traceback": [
      "\u001b[0;31m---------------------------------------------------------------------------\u001b[0m",
      "\u001b[0;31mValueError\u001b[0m                                Traceback (most recent call last)",
      "Cell \u001b[0;32mIn[9], line 15\u001b[0m\n\u001b[1;32m     11\u001b[0m ROTFLIPS \u001b[38;5;241m=\u001b[39m \u001b[38;5;241m2\u001b[39m\u001b[38;5;241m*\u001b[39mROTS\n\u001b[1;32m     13\u001b[0m sim_data \u001b[38;5;241m=\u001b[39m torch\u001b[38;5;241m.\u001b[39mrandn(BATCH_SIZE, WIDTH, DEPTH, HEIGHT, RB_CHANNELS)\n\u001b[0;32m---> 15\u001b[0m x, out_height \u001b[38;5;241m=\u001b[39m concat_vertical_neighborhoods(sim_data, KSIZE, stride\u001b[38;5;241m=\u001b[39mV_STRIDE) \u001b[38;5;66;03m# shape: batch,width,depth,outheight*ksize*channels\u001b[39;00m\n\u001b[1;32m     16\u001b[0m x \u001b[38;5;241m=\u001b[39m x\u001b[38;5;241m.\u001b[39mpermute(\u001b[38;5;241m0\u001b[39m, \u001b[38;5;241m3\u001b[39m, \u001b[38;5;241m1\u001b[39m, \u001b[38;5;241m2\u001b[39m) \u001b[38;5;66;03m# batch, outheight*ksize*channels, width, depth\u001b[39;00m\n\u001b[1;32m     18\u001b[0m r2_act \u001b[38;5;241m=\u001b[39m gspaces\u001b[38;5;241m.\u001b[39mflipRot2dOnR2(N\u001b[38;5;241m=\u001b[39mROTS)\n",
      "\u001b[0;31mValueError\u001b[0m: not enough values to unpack (expected 2, got 1)"
     ]
    }
   ],
   "source": [
    "\n",
    "# TODO data augmentation (rotation of horizontal velocities)\n",
    "\n",
    "BATCH_SIZE = 1\n",
    "WIDTH, DEPTH, HEIGHT = 48, 48, 32\n",
    "RB_CHANNELS = 4\n",
    "OUT_CHANNELS = 10\n",
    "KSIZE = 3\n",
    "V_STRIDE = 1\n",
    "\n",
    "ROTS = 4\n",
    "ROTFLIPS = 2*ROTS\n",
    "\n",
    "sim_data = torch.randn(BATCH_SIZE, WIDTH, DEPTH, HEIGHT, RB_CHANNELS)\n",
    "\n",
    "x, out_height = concat_vertical_neighborhoods(sim_data, KSIZE, stride=V_STRIDE) # shape: batch,width,depth,outheight*ksize*channels\n",
    "x = x.permute(0, 3, 1, 2) # batch, outheight*ksize*channels, width, depth\n",
    "\n",
    "r2_act = gspaces.flipRot2dOnR2(N=ROTS)\n",
    "feat_type_in  = nn.FieldType(r2_act,  out_height*KSIZE*[r2_act.trivial_repr, r2_act.irrep(1, 1), r2_act.trivial_repr])\n",
    "feat_type_out = nn.FieldType(r2_act, out_height*OUT_CHANNELS*[r2_act.regular_repr])\n",
    "\n",
    "x = feat_type_in(x)\n",
    "conv_layer = nn.SequentialModule(\n",
    "    nn.R2Conv(feat_type_in, feat_type_out, KSIZE, groups=out_height, padding=KSIZE//2, padding_mode='circular'), \n",
    "    nn.ReLU(feat_type_out)\n",
    ")\n",
    "\n",
    "y = conv_layer(x) # batch, outheight*outchannel*transformations, width, depth\n",
    "y.reshape(BATCH_SIZE, out_height, -1, WIDTH, DEPTH)\n",
    "\n",
    "#TODO concat_vertical_neighborhoods for this shape: height*outchannel*transform, width, depth"
   ]
  },
  {
   "cell_type": "code",
   "execution_count": 41,
   "metadata": {},
   "outputs": [
    {
     "data": {
      "text/plain": [
       "escnn.nn.field_type.FieldType"
      ]
     },
     "execution_count": 41,
     "metadata": {},
     "output_type": "execute_result"
    }
   ],
   "source": [
    "type(y.type)"
   ]
  },
  {
   "cell_type": "code",
   "execution_count": null,
   "metadata": {},
   "outputs": [
    {
     "name": "stdout",
     "output_type": "stream",
     "text": [
      "12\n"
     ]
    }
   ],
   "source": [
    "def concat_vertical_neighborhoods2(tensor: torch.Tensor, type: nn.FieldType, ksize, fields, stride=1, pad=True):\n",
    "    \"\"\"\n",
    "    tensor of shape [batch, height, channels*transformations, width, depth] -> [batch, out_height*ksize*channels*transformations, width, depth]\n",
    "    \n",
    "    geomTensor of shape [batch, height*channels*transformations, width, depth]\"\"\"\n",
    "    in_height = tensor.shape[1]\n",
    "    \n",
    "    if pad:\n",
    "        # pad height\n",
    "        padding = required_same_padding(in_height=in_height, ksize=ksize, stride=stride)\n",
    "        applied_padding = (math.floor(padding/2), math.ceil(padding/2))\n",
    "        tensor = F.pad(tensor, (*([0,0]*3), *applied_padding)) # shape:(b,padH,c*t,w,d)\n",
    "    \n",
    "    # compute neighborhoods\n",
    "    tensor = tensor.unfold(dimension=1, size=ksize, step=stride) # shape:(b,outH,c*t,w,d,ksize)\n",
    "    out_height = tensor.shape[1]\n",
    "    print(out_height)\n",
    "    \n",
    "    # concatenate neighboroods\n",
    "    tensor = tensor.permute(0, 1, 5, 2, 3, 4) # shape:(b,outH,ksize,c*t,w,d)\n",
    "    tensor = tensor.flatten(start_dim=1, end_dim=3) # shape:(b,outH*ksize*c,t,w,d)\n",
    "    \n",
    "    channel_representations = type.representations[:fields]\n",
    "    assert in_height*channel_representations == type.representations\n",
    "    newType = nn.FieldType(type.gspace, out_height*ksize*channel_representations)\n",
    "    \n",
    "    return GeometricTensor(tensor, newType), out_height\n",
    "\n",
    "HEIGHT = 12\n",
    "sim_data1 = torch.randn(BATCH_SIZE, WIDTH, DEPTH, HEIGHT, RB_CHANNELS) # b,w,d,h,c\n",
    "sim_data_1 = sim_data1.permute(0, 3, 4, 1, 2) # b,h,c,w,d\n",
    "sim_data2 = sim_data1.permute(0, 3, 4, 1, 2)\n",
    "\n",
    "r2_act = gspaces.flipRot2dOnR2(N=ROTS)\n",
    "sim_type  = nn.FieldType(r2_act,  HEIGHT*[r2_act.trivial_repr, r2_act.irrep(1, 1), r2_act.trivial_repr])\n",
    "\n",
    "x1, out_height1 = concat_vertical_neighborhoods(sim_data1, KSIZE, stride=V_STRIDE) # [b,w,d,outH*ksize*c]\n",
    "x1 = x1.permute(0, 3, 1, 2) # [b,outH*ksize*c*t,w,d]\n",
    "x_1, out_height_1 = concat_vertical_neighborhoods_1(sim_data_1, ksize=KSIZE, stride=V_STRIDE) # [b,outH*ksize*c*t,w,d]\n",
    "x2, out_height2 = concat_vertical_neighborhoods2(sim_data2, type=sim_type, fields=3, ksize=KSIZE, stride=V_STRIDE) # [b,outH*ksize*c*t,w,d]\n",
    "\n",
    "assert out_height1 == out_height_1\n",
    "assert x1.shape == x_1.shape\n",
    "assert torch.equal(x1, x_1)\n",
    "\n",
    "\n",
    "assert out_height1 == out_height2\n",
    "assert x1.shape == x2.tensor.shape\n",
    "assert torch.equal(x1, x2.tensor)"
   ]
  },
  {
   "cell_type": "code",
   "execution_count": 15,
   "metadata": {},
   "outputs": [
    {
     "data": {
      "text/plain": [
       "(0, 0, 0, 0, 0, 0, 1, 1)"
      ]
     },
     "execution_count": 15,
     "metadata": {},
     "output_type": "execute_result"
    }
   ],
   "source": [
    "x = torch.Tensor([[[1, 2], [3, 4]], [[5, 6], [7, 8]]])\n",
    "\n",
    "torch.equal(F.pad(x, [1, 1]).permute(0, 2, 1), F.pad(x.permute(0,2,1), [0, 0, 1, 1]))\n",
    "\n",
    "(*([0,0]*3), *(1,1))"
   ]
  },
  {
   "cell_type": "code",
   "execution_count": 12,
   "metadata": {},
   "outputs": [
    {
     "name": "stdout",
     "output_type": "stream",
     "text": [
      "x tensor([[[1., 2.],\n",
      "         [3., 4.]],\n",
      "\n",
      "        [[5., 6.],\n",
      "         [7., 8.]]])\n",
      "x2 tensor([[[1., 3.],\n",
      "         [2., 4.]],\n",
      "\n",
      "        [[5., 7.],\n",
      "         [6., 8.]]])\n",
      "tensor([[[0., 1., 2., 0.],\n",
      "         [0., 3., 4., 0.]],\n",
      "\n",
      "        [[0., 5., 6., 0.],\n",
      "         [0., 7., 8., 0.]]])\n",
      "---\n",
      "tensor([[[0., 1., 2., 0.],\n",
      "         [0., 3., 4., 0.]],\n",
      "\n",
      "        [[0., 5., 6., 0.],\n",
      "         [0., 7., 8., 0.]]])\n",
      "---\n",
      "tensor([[[0., 0.],\n",
      "         [1., 3.],\n",
      "         [2., 4.],\n",
      "         [0., 0.]],\n",
      "\n",
      "        [[0., 0.],\n",
      "         [5., 7.],\n",
      "         [6., 8.],\n",
      "         [0., 0.]]])\n"
     ]
    }
   ],
   "source": [
    "x = torch.Tensor([[[1, 2], [3, 4]], [[5, 6], [7, 8]]])\n",
    "print('x', x) # a, b, c\n",
    "x2 = x.permute(0, 2, 1) # a, c, b\n",
    "print('x2', x2)\n",
    "\n",
    "x_pad = F.pad(x, [1, 1])\n",
    "x2_pad = F.pad(x2, [0, 0, 1, 1])\n",
    "x2_pad_rev = x2_pad.permute(0, 2, 1)\n",
    "\n",
    "print(x_pad)\n",
    "print(\"---\")\n",
    "print(x2_pad_rev)\n",
    "print(\"---\")\n",
    "print(x2_pad)\n",
    "\n",
    "assert torch.equal(x_pad, x2_pad_rev)"
   ]
  }
 ],
 "metadata": {
  "kernelspec": {
   "display_name": "escnn",
   "language": "python",
   "name": "python3"
  },
  "language_info": {
   "codemirror_mode": {
    "name": "ipython",
    "version": 3
   },
   "file_extension": ".py",
   "mimetype": "text/x-python",
   "name": "python",
   "nbconvert_exporter": "python",
   "pygments_lexer": "ipython3",
   "version": "3.11.10"
  }
 },
 "nbformat": 4,
 "nbformat_minor": 2
}
