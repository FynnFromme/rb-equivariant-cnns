{
 "cells": [
  {
   "cell_type": "code",
   "execution_count": 2,
   "metadata": {},
   "outputs": [],
   "source": [
    "import torch\n",
    "import torch.nn as nn"
   ]
  },
  {
   "cell_type": "code",
   "execution_count": 87,
   "metadata": {},
   "outputs": [],
   "source": [
    "import torch.nn.functional as F\n",
    "\n",
    "def concat_vertical_neighborhoods(x, ksize, stride=1):\n",
    "    x_padded = F.pad(x, (0, 0, 0, 0, ksize // 2, ksize // 2 + (1-ksize%2)), mode='constant', value=0) # pad height\n",
    "\n",
    "    neighborhoods = x_padded.unfold(dimension=1, size=ksize, step=stride) # unfold vertical neighborhoods\n",
    "\n",
    "    return neighborhoods.permute(0, 1, 4, 2, 3).flatten(start_dim=1, end_dim=2) # concat neighborhoods"
   ]
  },
  {
   "cell_type": "code",
   "execution_count": 95,
   "metadata": {},
   "outputs": [],
   "source": [
    "WIDTH, DEPTH, HEIGHT = 48, 48, 32\n",
    "RB_CHANNELS = 4\n",
    "KSIZE = 3 # only supports odd vertical sizes\n",
    "\n",
    "V_STRIDE = 1\n",
    "\n",
    "\n",
    "channels1 = 10\n",
    "conv1 = nn.Conv2d(in_channels=RB_CHANNELS*HEIGHT*KSIZE, out_channels=channels1*HEIGHT, kernel_size=KSIZE, groups=HEIGHT,\n",
    "                  padding='same')\n",
    "channels2 = 20\n",
    "conv2 = nn.Conv2d(in_channels=channels1*HEIGHT*KSIZE, out_channels=channels2*HEIGHT, kernel_size=KSIZE, groups=HEIGHT,\n",
    "                  padding='same')\n",
    "\n",
    "sim_data = torch.randn(1, RB_CHANNELS, WIDTH, DEPTH, HEIGHT)\n",
    "\n",
    "x = sim_data.permute(0, 1, 4, 2, 3).reshape(1, RB_CHANNELS*HEIGHT, WIDTH, DEPTH)\n",
    "x_transformed = concat_vertical_neighborhoods(x, KSIZE, stride=V_STRIDE)\n",
    "y1 = conv1(x_transformed)\n",
    "y1_transformed = concat_vertical_neighborhoods(y1, KSIZE, stride=V_STRIDE)\n",
    "y2 = conv2(y1_transformed)"
   ]
  },
  {
   "cell_type": "code",
   "execution_count": 92,
   "metadata": {},
   "outputs": [
    {
     "data": {
      "text/plain": [
       "torch.Size([1, 12, 48, 48])"
      ]
     },
     "execution_count": 92,
     "metadata": {},
     "output_type": "execute_result"
    }
   ],
   "source": [
    "x_transformed[:, :RB_CHANNELS*HEIGHT*KSIZE//HEIGHT].shape # (vertical)ksize*in_channels, width, depth"
   ]
  },
  {
   "cell_type": "code",
   "execution_count": 93,
   "metadata": {},
   "outputs": [
    {
     "data": {
      "text/plain": [
       "torch.Size([320, 12, 3, 3])"
      ]
     },
     "execution_count": 93,
     "metadata": {},
     "output_type": "execute_result"
    }
   ],
   "source": [
    "conv1.weight.shape # out_height*out_channels, (vertical)ksize*in_channels, ksize, ksize"
   ]
  },
  {
   "cell_type": "code",
   "execution_count": 94,
   "metadata": {},
   "outputs": [
    {
     "data": {
      "text/plain": [
       "torch.Size([1, 320, 48, 48])"
      ]
     },
     "execution_count": 94,
     "metadata": {},
     "output_type": "execute_result"
    }
   ],
   "source": [
    "y1.shape # out_height*out_channels, width, depth"
   ]
  }
 ],
 "metadata": {
  "kernelspec": {
   "display_name": "torch",
   "language": "python",
   "name": "python3"
  },
  "language_info": {
   "codemirror_mode": {
    "name": "ipython",
    "version": 3
   },
   "file_extension": ".py",
   "mimetype": "text/x-python",
   "name": "python",
   "nbconvert_exporter": "python",
   "pygments_lexer": "ipython3",
   "version": "3.11.10"
  }
 },
 "nbformat": 4,
 "nbformat_minor": 2
}
