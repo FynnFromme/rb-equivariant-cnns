{
 "cells": [
  {
   "cell_type": "markdown",
   "metadata": {},
   "source": [
    "# 2D Rayleigh-Bénard Visualization"
   ]
  },
  {
   "cell_type": "code",
   "execution_count": 1,
   "metadata": {},
   "outputs": [],
   "source": [
    "using Plots\n",
    "using HDF5\n",
    "\n",
    "theme(:dark)"
   ]
  },
  {
   "cell_type": "markdown",
   "metadata": {},
   "source": [
    "Select Simulation:"
   ]
  },
  {
   "cell_type": "code",
   "execution_count": 2,
   "metadata": {},
   "outputs": [
    {
     "data": {
      "text/plain": [
       "\"96_64_10000.0_0.71_0.03_0.3_100\""
      ]
     },
     "metadata": {},
     "output_type": "display_data"
    }
   ],
   "source": [
    "# w_h_Ra_Pr_Δt_Δt_snap_duration\n",
    "simulation_name = \"96_64_10000.0_0.71_0.03_0.3_100\""
   ]
  },
  {
   "cell_type": "code",
   "execution_count": 3,
   "metadata": {},
   "outputs": [
    {
     "name": "stdout",
     "output_type": "stream",
     "text": [
      "temps size: (334, 96, 64)\n",
      "vels size: (334, 2, 96, 64)\n"
     ]
    }
   ],
   "source": [
    "w, h, Ra, Pr, Δt, Δt_snap, duration = parse.(Float64,\n",
    "                                             split(simulation_name, '_'))\n",
    "w, h = Int.([w, h])\n",
    "\n",
    "dirpath = string(@__DIR__)\n",
    "data_dirpath = joinpath(dirpath, \"data\", simulation_name)\n",
    "simulation_path = joinpath(data_dirpath, \"sim.h5\")\n",
    "animation_path = joinpath(data_dirpath, \"anim.mp4\")\n",
    "\n",
    "simulation_file = h5open(simulation_path, \"r\")\n",
    "\n",
    "temps = simulation_file[\"temperature\"]\n",
    "vels = simulation_file[\"velocity\"]\n",
    "\n",
    "println(\"temps size: $(size(temps))\")\n",
    "println(\"vels size: $(size(vels))\")"
   ]
  },
  {
   "cell_type": "markdown",
   "metadata": {},
   "source": [
    "### Animation"
   ]
  },
  {
   "cell_type": "code",
   "execution_count": 8,
   "metadata": {},
   "outputs": [
    {
     "name": "stderr",
     "output_type": "stream",
     "text": [
      "┌ Info: Saved animation to /upb/users/f/frommef/profiles/unix/cs/rb-equivariant-cnns/simulation/2d/data/96_64_10000.0_0.71_0.03_0.3_100/anim.mp4\n",
      "└ @ Plots /upb/users/f/frommef/profiles/unix/cs/.julia/packages/Plots/du2dt/src/animation.jl:156\n"
     ]
    },
    {
     "data": {
      "text/plain": [
       "Nothing"
      ]
     },
     "metadata": {},
     "output_type": "display_data"
    }
   ],
   "source": [
    "function showrb(i)\n",
    "    t = round((i - 1) * Δt_snap, digits=1)\n",
    "    x = range(0, 2*pi, length=96)\n",
    "    z = range(0, 2, length=64)\n",
    "    data = transpose(temps[i, :, :])\n",
    "    heatmap(x, z, data,\n",
    "        c=:jet, clims=(1,2), aspect_ratio=:equal, xlim=(0, 2*pi), ylim=(0, 2),\n",
    "        title=\"2D Rayleigh-Bénard (t=$t)\")\n",
    "end\n",
    "\n",
    "anim = @animate for i ∈ 1:size(temps, 1)\n",
    "    showrb(i)\n",
    "end\n",
    "mp4(anim, animation_path, fps=15)\n",
    "Nothing"
   ]
  }
 ],
 "metadata": {
  "kernelspec": {
   "display_name": "Julia 1.10.4",
   "language": "julia",
   "name": "julia-1.10"
  },
  "language_info": {
   "file_extension": ".jl",
   "mimetype": "application/julia",
   "name": "julia",
   "version": "1.10.4"
  }
 },
 "nbformat": 4,
 "nbformat_minor": 2
}
