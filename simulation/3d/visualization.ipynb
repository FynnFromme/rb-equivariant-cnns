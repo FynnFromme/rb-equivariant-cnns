{
 "cells": [
  {
   "cell_type": "markdown",
   "metadata": {},
   "source": [
    "# 3D Rayleigh-Bénard Visualization"
   ]
  },
  {
   "cell_type": "code",
   "execution_count": 1,
   "metadata": {},
   "outputs": [],
   "source": [
    "using Plots\n",
    "using HDF5\n",
    "\n",
    "theme(:dark)"
   ]
  },
  {
   "cell_type": "markdown",
   "metadata": {},
   "source": [
    "Select Simulation:"
   ]
  },
  {
   "cell_type": "code",
   "execution_count": 2,
   "metadata": {},
   "outputs": [
    {
     "data": {
      "text/plain": [
       "\"96_96_64_10000.0_0.71_0.03_0.3_1000.2\""
      ]
     },
     "metadata": {},
     "output_type": "display_data"
    }
   ],
   "source": [
    "# w_d_h_Ra_Pr_Δt_Δt_snap_duration\n",
    "simulation_name = \"96_96_64_10000.0_0.71_0.03_0.3_1000.2\""
   ]
  },
  {
   "cell_type": "code",
   "execution_count": 3,
   "metadata": {},
   "outputs": [
    {
     "name": "stdout",
     "output_type": "stream",
     "text": [
      "temps size: (3335, 96, 96, 64)\n",
      "vels size: (3335, 3, 96, 96, 64)\n"
     ]
    }
   ],
   "source": [
    "w, d, h, Ra, Pr, Δt, Δt_snap, duration = parse.(Float64, \n",
    "                                                split(simulation_name, '_'))\n",
    "w, d, h = Int.([w, d, h])\n",
    "\n",
    "dirpath = string(@__DIR__)\n",
    "data_dirpath = joinpath(dirpath, \"data\", simulation_name)\n",
    "simulation_path = joinpath(data_dirpath, \"sim.h5\")\n",
    "animation_top_path = joinpath(data_dirpath, \"anim_top.gif\")\n",
    "animation_side_path = joinpath(data_dirpath, \"anim_side.gif\")\n",
    "\n",
    "simulation_file = h5open(simulation_path, \"r\")\n",
    "\n",
    "temps = simulation_file[\"temperature\"]\n",
    "vels = simulation_file[\"velocity\"]\n",
    "\n",
    "println(\"temps size: $(size(temps))\")\n",
    "println(\"vels size: $(size(vels))\")"
   ]
  },
  {
   "cell_type": "markdown",
   "metadata": {},
   "source": [
    "### Top View"
   ]
  },
  {
   "cell_type": "code",
   "execution_count": 4,
   "metadata": {},
   "outputs": [
    {
     "name": "stderr",
     "output_type": "stream",
     "text": [
      "┌ Info: Saved animation to /upb/users/f/frommef/profiles/unix/cs/rb-equivariant-cnns/simulation/julia/3d/data/96_96_64_10000.0_0.71_0.03_0.3_1000.2/anim_top.gif\n",
      "└ @ Plots /upb/users/f/frommef/profiles/unix/cs/.julia/packages/Plots/du2dt/src/animation.jl:156\n"
     ]
    },
    {
     "data": {
      "text/plain": [
       "Nothing"
      ]
     },
     "metadata": {},
     "output_type": "display_data"
    }
   ],
   "source": [
    "function showrb_top(i, height=div(h, 2))\n",
    "    x = range(0, 2*pi, length=w)\n",
    "    y = range(0, 2*pi, length=d)\n",
    "    data = transpose(temps[i, :, :, height])\n",
    "    heatmap(x, y, data,\n",
    "        c=:jet, clims=(1,2), aspect_ratio=:equal, xlim=(0, 2 * pi), ylim=(0, 2 * pi),\n",
    "        title=\"Top View (h=$(height)): 3D Rayleigh-Bénard (t=$(floor(i*Δt_snap)))\")\n",
    "end\n",
    "\n",
    "anim = @animate for i ∈ 1:size(temps, 1)\n",
    "    showrb_top(i)\n",
    "end\n",
    "\n",
    "gif(anim, animation_top_path, fps=30)\n",
    "Nothing"
   ]
  },
  {
   "cell_type": "markdown",
   "metadata": {},
   "source": [
    "### Side View"
   ]
  },
  {
   "cell_type": "code",
   "execution_count": 5,
   "metadata": {},
   "outputs": [
    {
     "name": "stderr",
     "output_type": "stream",
     "text": [
      "┌ Info: Saved animation to /upb/users/f/frommef/profiles/unix/cs/rb-equivariant-cnns/simulation/julia/3d/data/96_96_64_10000.0_0.71_0.03_0.3_1000.2/anim_side.gif\n",
      "└ @ Plots /upb/users/f/frommef/profiles/unix/cs/.julia/packages/Plots/du2dt/src/animation.jl:156\n"
     ]
    },
    {
     "data": {
      "text/plain": [
       "Nothing"
      ]
     },
     "metadata": {},
     "output_type": "display_data"
    }
   ],
   "source": [
    "function showrb_side(i, depth=div(d, 2))\n",
    "    x = range(0, 2 * pi, length=w)\n",
    "    z = range(0, 2, length=h)\n",
    "    data = transpose(temps[i, :, depth, :])\n",
    "    heatmap(x, z, data,\n",
    "        c=:jet, clims=(1, 2), aspect_ratio=:equal, xlim=(0, 2 * pi), ylim=(0, 2),\n",
    "        title=\"Side View (d=$(depth)): 3D Rayleigh-Bénard (t=$(floor(i*Δt_snap)))\")\n",
    "end\n",
    "\n",
    "anim = @animate for i ∈ 1:size(temps, 1)\n",
    "    showrb_side(i)\n",
    "end\n",
    "gif(anim, animation_side_path, fps=30)\n",
    "Nothing"
   ]
  }
 ],
 "metadata": {
  "kernelspec": {
   "display_name": "Julia 1.10.4",
   "language": "julia",
   "name": "julia-1.10"
  },
  "language_info": {
   "file_extension": ".jl",
   "mimetype": "application/julia",
   "name": "julia",
   "version": "1.10.4"
  }
 },
 "nbformat": 4,
 "nbformat_minor": 2
}
