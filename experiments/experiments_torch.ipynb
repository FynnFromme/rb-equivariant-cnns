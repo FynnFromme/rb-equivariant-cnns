{
 "cells": [
  {
   "cell_type": "code",
   "execution_count": 191,
   "metadata": {},
   "outputs": [
    {
     "data": {
      "text/plain": [
       "<torch._C.Generator at 0x7fe3a3592730>"
      ]
     },
     "execution_count": 191,
     "metadata": {},
     "output_type": "execute_result"
    }
   ],
   "source": [
    "import torch\n",
    "import numpy as np\n",
    "\n",
    "torch.manual_seed(0)"
   ]
  },
  {
   "cell_type": "markdown",
   "metadata": {},
   "source": [
    "### Data"
   ]
  },
  {
   "cell_type": "code",
   "execution_count": 136,
   "metadata": {},
   "outputs": [],
   "source": [
    "BATCH_SIZE = 1\n",
    "WIDTH, DEPTH, HEIGHT = 48, 48, 32\n",
    "RB_CHANNELS = 4\n",
    "\n",
    "sim_data = torch.randn(BATCH_SIZE, WIDTH, DEPTH, HEIGHT, RB_CHANNELS)\n",
    "\n",
    "tensor = sim_data.permute(0, 3, 4, 1, 2).reshape(BATCH_SIZE, HEIGHT*RB_CHANNELS, WIDTH, DEPTH)"
   ]
  },
  {
   "cell_type": "markdown",
   "metadata": {},
   "source": [
    "### Model definition"
   ]
  },
  {
   "cell_type": "code",
   "execution_count": null,
   "metadata": {},
   "outputs": [],
   "source": [
    "model = RBModel()\n",
    "\n",
    "\n",
    "# TODO Weight initialization\n",
    "# TODO Regularization\n",
    "# TODO LR Schedule\n",
    "# TODO Early stopping"
   ]
  },
  {
   "cell_type": "markdown",
   "metadata": {},
   "source": [
    "### Evaluation"
   ]
  },
  {
   "cell_type": "code",
   "execution_count": 179,
   "metadata": {},
   "outputs": [
    {
     "name": "stdout",
     "output_type": "stream",
     "text": [
      "(+, 0[2pi/4]) 0.0 0.0 0.0\n",
      "(+, 1[2pi/4]) 1.1444092e-05 8.407385e-07 6.020303e-13\n",
      "(+, 2[2pi/4]) 1.1444092e-05 8.680709e-07 6.498333e-13\n",
      "(+, 3[2pi/4]) 1.1444092e-05 8.420825e-07 6.0228276e-13\n",
      "(-, 0[2pi/4]) 9.536743e-06 7.587161e-07 4.9824386e-13\n",
      "(-, 1[2pi/4]) 1.1444092e-05 8.0667076e-07 5.625684e-13\n",
      "(-, 2[2pi/4]) 1.335144e-05 8.7112966e-07 6.539646e-13\n",
      "(-, 3[2pi/4]) 1.335144e-05 8.6191903e-07 6.310972e-13\n"
     ]
    },
    {
     "data": {
      "text/plain": [
       "[((+, 0[2pi/4]), 0.0),\n",
       " ((+, 1[2pi/4]), 8.407385e-07),\n",
       " ((+, 2[2pi/4]), 8.680709e-07),\n",
       " ((+, 3[2pi/4]), 8.420825e-07),\n",
       " ((-, 0[2pi/4]), 7.587161e-07),\n",
       " ((-, 1[2pi/4]), 8.0667076e-07),\n",
       " ((-, 2[2pi/4]), 8.7112966e-07),\n",
       " ((-, 3[2pi/4]), 8.6191903e-07)]"
      ]
     },
     "execution_count": 179,
     "metadata": {},
     "output_type": "execute_result"
    }
   ],
   "source": [
    "model.check_equivariance()"
   ]
  },
  {
   "cell_type": "code",
   "execution_count": 190,
   "metadata": {},
   "outputs": [
    {
     "data": {
      "text/plain": [
       "torch.Size([1, 128, 48, 48])"
      ]
     },
     "execution_count": 190,
     "metadata": {},
     "output_type": "execute_result"
    }
   ],
   "source": [
    "model(tensor, data_augmentation=True).shape"
   ]
  }
 ],
 "metadata": {
  "kernelspec": {
   "display_name": "escnn",
   "language": "python",
   "name": "python3"
  },
  "language_info": {
   "codemirror_mode": {
    "name": "ipython",
    "version": 3
   },
   "file_extension": ".py",
   "mimetype": "text/x-python",
   "name": "python",
   "nbconvert_exporter": "python",
   "pygments_lexer": "ipython3",
   "version": "3.11.10"
  }
 },
 "nbformat": 4,
 "nbformat_minor": 2
}
