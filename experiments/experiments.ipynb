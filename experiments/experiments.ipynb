{
 "cells": [
  {
   "cell_type": "code",
   "execution_count": null,
   "metadata": {},
   "outputs": [],
   "source": [
    "\n",
    "#? python train.py -h\n",
    "#? python train.py steerable3DCNN 500 training1\n",
    "\n",
    "#? python evaluate.py -h\n",
    "#? python evaluate.py D4cnn training1 [-eval_performance | \n",
    "#?                                     -eval_performance_per_sim |\n",
    "#?                                     -check_equivariance |\n",
    "#?                                     -animate |\n",
    "#?                                     -compute_latent_sensitivity]\n",
    "\n",
    "#? tensorboard --logdir runs\n"
   ]
  },
  {
   "cell_type": "markdown",
   "metadata": {},
   "source": [
    "# 3D Rayleigh-Bénard: Equivariant Convolutional Autoencoder"
   ]
  },
  {
   "cell_type": "code",
   "execution_count": 72,
   "metadata": {},
   "outputs": [
    {
     "name": "stdout",
     "output_type": "stream",
     "text": [
      "The autoreload extension is already loaded. To reload it, use:\n",
      "  %reload_ext autoreload\n"
     ]
    }
   ],
   "source": [
    "%load_ext autoreload\n",
    "%autoreload 2\n",
    "\n",
    "import os\n",
    "import sys\n",
    "\n",
    "sys.path.append('..')\n",
    "\n",
    "from IPython.display import Video, display\n",
    "from ipywidgets import interact_manual, FloatSlider, IntSlider, BoundedIntText, Dropdown, SelectMultiple, Checkbox\n",
    "import glob\n",
    "import json\n",
    "\n",
    "from utils import training\n",
    "from utils.model_building import build_model\n",
    "from utils.evaluation import load_latent_sensitivity\n",
    "from utils.visualization import show_latent_patterns, plot_loss_history"
   ]
  },
  {
   "cell_type": "markdown",
   "metadata": {},
   "source": [
    "## Hyperparameter Selection"
   ]
  },
  {
   "cell_type": "code",
   "execution_count": 70,
   "metadata": {},
   "outputs": [
    {
     "data": {
      "application/vnd.jupyter.widget-view+json": {
       "model_id": "734e1a6068034362899c30b838e9587d",
       "version_major": 2,
       "version_minor": 0
      },
      "text/plain": [
       "interactive(children=(Dropdown(description='model_type', options=('steerableCNN', 'steerable3DCNN', 'CNN', '3D…"
      ]
     },
     "metadata": {},
     "output_type": "display_data"
    }
   ],
   "source": [
    "model_type_widget = Dropdown(options=['steerableCNN', 'steerable3DCNN', 'CNN', '3DCNN'], value='steerableCNN')\n",
    "simulation_widget = Dropdown(options=os.listdir('../data/datasets'))\n",
    "rots_widget = IntSlider(min=4, max=16, step=4, value=4)\n",
    "flips_widget = Checkbox(value=True)\n",
    "ec1_widget = BoundedIntText(min=1, max=1000, value=8)\n",
    "ec2_widget = BoundedIntText(min=1, max=1000, value=16)\n",
    "ec3_widget = BoundedIntText(min=1, max=1000, value=32)\n",
    "ec4_widget = BoundedIntText(min=1, max=1000, value=64)\n",
    "latent_channels_widget = BoundedIntText(min=1, value=32)\n",
    "h_ksize_widget = Dropdown(options=[3, 5], value=3)\n",
    "v_ksize_widget = Dropdown(options=[3, 5], value=5)\n",
    "drop_rate_widget = FloatSlider(min=0, max=1, value=0.2)\n",
    "nonlinearity_widget = Dropdown(options=['ReLU', 'ELU', 'LeakyReLU'], value='ELU')\n",
    "\n",
    "def set_default_channels(*args):\n",
    "    default_channels = {'steerableCNN': (8, 16, 32, 64),\n",
    "                        'steerable3DCNN': (24, 48, 96, 192),\n",
    "                        'CNN': (16, 32, 66, 160),\n",
    "                        '3DCNN': (40, 80, 168, 320)}[model_type_widget.value]\n",
    "    ec1_widget.value, ec2_widget.value, ec3_widget.value, ec4_widget.value = default_channels\n",
    "        \n",
    "model_type_widget.observe(set_default_channels)\n",
    "\n",
    "\n",
    "@interact_manual.options(manual_name=\"Build model\")(model_type=model_type_widget, simulation=simulation_widget,\n",
    "                                                    rots=rots_widget, flips=flips_widget, ec1=ec1_widget, ec2=ec2_widget, \n",
    "                                                    ec3=ec3_widget, ec4=ec4_widget, latent_channels=latent_channels_widget, \n",
    "                                                    h_ksize=h_ksize_widget, v_ksize=v_ksize_widget, drop_rate=drop_rate_widget, \n",
    "                                                    nonlinearity=nonlinearity_widget)\n",
    "def show_patterns(model_type, simulation, rots, flips, ec1, ec2, ec3, ec4, latent_channels, h_ksize, v_ksize, drop_rate, nonlinearity):\n",
    "    encoder_channels = [ec1, ec2, ec3, ec4]\n",
    "    hps = {\n",
    "        'simulation_name': simulation,\n",
    "        'rots': rots,\n",
    "        'flips': flips,\n",
    "        'encoder_channels': encoder_channels,\n",
    "        'latent_channels': latent_channels,\n",
    "        'h_kernel_size': h_ksize,\n",
    "        'v_kernel_size': v_ksize,\n",
    "        'drop_rate': drop_rate,\n",
    "        'nonlinearity': nonlinearity\n",
    "    }\n",
    "    \n",
    "    model = build_model(model_type, **hps)\n",
    "\n",
    "    model.summary()"
   ]
  },
  {
   "cell_type": "markdown",
   "metadata": {},
   "source": [
    "## Trained Model Summaries"
   ]
  },
  {
   "cell_type": "code",
   "execution_count": 77,
   "metadata": {},
   "outputs": [
    {
     "data": {
      "application/vnd.jupyter.widget-view+json": {
       "model_id": "b3d19d749de84016a56438f803c3b940",
       "version_major": 2,
       "version_minor": 0
      },
      "text/plain": [
       "interactive(children=(Dropdown(description='trained_model', options=('3Dcnn/training1_lr1e-3', '3Dcnn/training…"
      ]
     },
     "metadata": {},
     "output_type": "display_data"
    }
   ],
   "source": [
    "trained_models_widget = Dropdown(options=sorted(glob.glob('*/*', root_dir='./trained_models')))\n",
    "\n",
    "@interact_manual.options(manual_name=\"Build model\")(trained_model=trained_models_widget)\n",
    "def show_summary(trained_model):\n",
    "    model_name, train_name = trained_model.split('/')\n",
    "    model = training.build_and_load_trained_model('trained_models', model_name, train_name, epoch=-1)\n",
    "\n",
    "    model.summary()\n",
    "    \n",
    "    print('\\nHyperparameters:')\n",
    "    hp_file = os.path.join('trained_models', model_name, train_name, 'hyperparameters.json')\n",
    "    with open(hp_file, 'r') as f:\n",
    "        hps = json.load(f)\n",
    "        print(json.dumps(hps, indent=4)[2:-2])"
   ]
  },
  {
   "cell_type": "markdown",
   "metadata": {},
   "source": [
    "## Evaluation"
   ]
  },
  {
   "cell_type": "markdown",
   "metadata": {},
   "source": [
    "### Training Loss Evolution"
   ]
  },
  {
   "cell_type": "code",
   "execution_count": 60,
   "metadata": {},
   "outputs": [
    {
     "data": {
      "application/vnd.jupyter.widget-view+json": {
       "model_id": "ca5d5169bd3f40dd8218d094facd5a0c",
       "version_major": 2,
       "version_minor": 0
      },
      "text/plain": [
       "interactive(children=(SelectMultiple(description='trained_models', options=('3Dcnn/training1_lr1e-3', '3Dcnn/t…"
      ]
     },
     "metadata": {},
     "output_type": "display_data"
    }
   ],
   "source": [
    "trained_models_widget = SelectMultiple(options=sorted(glob.glob('*/*', root_dir='./trained_models')))\n",
    "smoothing_widget = FloatSlider(min=0, max=0.9, step=0.1)\n",
    "\n",
    "@interact_manual.options(manual_name=\"Visualize Loss\")(trained_models=trained_models_widget, smoothing=smoothing_widget)\n",
    "def show_loss(trained_models, two_plots=True, log_scale=False, time_x=False, remove_outliers=True, smoothing=0):\n",
    "    if not trained_models: \n",
    "        print('Please select a trained model')\n",
    "        return\n",
    "    model_names, train_names = zip(*[path.split('/') for path in trained_models])\n",
    "    plot_loss_history('trained_models', model_names, train_names, two_plots, log_scale, time_x, remove_outliers, smoothing)"
   ]
  },
  {
   "cell_type": "markdown",
   "metadata": {},
   "source": [
    "### Test Performance"
   ]
  },
  {
   "cell_type": "code",
   "execution_count": null,
   "metadata": {},
   "outputs": [],
   "source": []
  },
  {
   "cell_type": "markdown",
   "metadata": {},
   "source": [
    "### Encoder Output Animation"
   ]
  },
  {
   "cell_type": "code",
   "execution_count": 62,
   "metadata": {},
   "outputs": [
    {
     "data": {
      "application/vnd.jupyter.widget-view+json": {
       "model_id": "2eed004de04547e1939d5d6a9d367b57",
       "version_major": 2,
       "version_minor": 0
      },
      "text/plain": [
       "interactive(children=(Dropdown(description='trained_model', options=('D4cnn/training2_lr1e-4',), value='D4cnn/…"
      ]
     },
     "metadata": {},
     "output_type": "display_data"
    }
   ],
   "source": [
    "trained_models_w_animation = [path for path in glob.glob('*/*', root_dir='./results')\n",
    "                              if os.path.isdir(os.path.join('results', path, 'animations'))]\n",
    "trained_model_widget = Dropdown(options=sorted(trained_models_w_animation))\n",
    "feature_widget = Dropdown(options=['t', 'u', 'v', 'w'])\n",
    "dim_widget = Dropdown(options=['width', 'depth', 'height'])\n",
    "\n",
    "@interact_manual.options(manual_name=\"Show animation\")(trained_model=trained_model_widget, feature=feature_widget, dim=dim_widget)\n",
    "def show_animation(trained_model, feature='t', dim='height'):\n",
    "    model_name, train_name = trained_model.split('/')\n",
    "    anim_file = os.path.join('.', 'results', model_name, train_name, 'animations', feature, f'{dim}.mp4')\n",
    "    if not os.path.isfile(anim_file):\n",
    "        print('There is no animation for this selection')\n",
    "    else:\n",
    "        display(Video(anim_file))"
   ]
  },
  {
   "cell_type": "markdown",
   "metadata": {},
   "source": [
    "### Latent Space Visualization (Input Sensitivity)"
   ]
  },
  {
   "cell_type": "code",
   "execution_count": 67,
   "metadata": {},
   "outputs": [
    {
     "data": {
      "application/vnd.jupyter.widget-view+json": {
       "model_id": "37d22301204d4ce093480bd085b3dd16",
       "version_major": 2,
       "version_minor": 0
      },
      "text/plain": [
       "interactive(children=(Dropdown(description='trained_model', options=('D4cnn/training2_lr1e-4',), value='D4cnn/…"
      ]
     },
     "metadata": {},
     "output_type": "display_data"
    }
   ],
   "source": [
    "trained_models_w_sensitivity = [path for path in glob.glob('*/*', root_dir='./results')\n",
    "                              if os.path.isfile(os.path.join('results', path, 'latent_sensitivity.py'))]\n",
    "trained_model_widget = Dropdown(options=sorted(trained_models_w_animation))\n",
    "feature_widget = Dropdown(options=['t', 'u', 'v', 'w'], value='t')\n",
    "dim_widget = Dropdown(options=['width', 'depth', 'height'], value='height')\n",
    "slice_widget = IntSlider(min=0, max=31, value=0)\n",
    "num_patterns_widget = BoundedIntText(min=1, max=576, value=50)\n",
    "cols_widget = IntSlider(min=1, max=10, value=10)\n",
    "\n",
    "\n",
    "def update_slice_range(*args):\n",
    "    if dim_widget.value == 'height':\n",
    "        slice_widget.max = 31\n",
    "        slice_widget.value = min(31, slice_widget.value)\n",
    "    else:\n",
    "        slice_widget.max = 47\n",
    "        \n",
    "dim_widget.observe(update_slice_range)\n",
    "\n",
    "cached, cached_avg_sensitivity, cached_avg_abs_sensitivity = None, None, None\n",
    "\n",
    "@interact_manual.options(manual_name=\"Show patterns\")(trained_model=trained_model_widget, feature=feature_widget, dim=dim_widget, \n",
    "                                                      slice=slice_widget, num_patterns=num_patterns_widget, cols=cols_widget)\n",
    "def show_patterns(trained_model, feature='t', dim='height', slice=16, abs_sensitivity=False, contour=False, num_patterns=25, cols=5):\n",
    "    global cached, cached_avg_sensitivity, cached_avg_abs_sensitivity\n",
    "    \n",
    "    model_name, train_name = trained_model.split('/')\n",
    "    if cached == trained_model:\n",
    "        avg_sensitivity, avg_abs_sensitivity = cached_avg_sensitivity, cached_avg_abs_sensitivity\n",
    "    else:\n",
    "        sensitivity_dir = os.path.join('.', 'results', model_name, train_name)\n",
    "        avg_sensitivity, avg_abs_sensitivity, n = load_latent_sensitivity(sensitivity_dir, 'latent_sensitivity')\n",
    "        cached = trained_model\n",
    "        cached_avg_sensitivity, cached_avg_abs_sensitivity = avg_sensitivity, avg_abs_sensitivity\n",
    "\n",
    "    sensitivity_data = avg_abs_sensitivity if abs_sensitivity else avg_sensitivity\n",
    "    channel = 'tuvw'.index(feature)\n",
    "    axis = ['width', 'depth', 'height'].index(dim)\n",
    "    show_latent_patterns(sensitivity_data, abs_sensitivity, num_patterns, channel, slice, axis, cols=cols, contour=contour)"
   ]
  }
 ],
 "metadata": {
  "kernelspec": {
   "display_name": "escnn",
   "language": "python",
   "name": "python3"
  },
  "language_info": {
   "codemirror_mode": {
    "name": "ipython",
    "version": 3
   },
   "file_extension": ".py",
   "mimetype": "text/x-python",
   "name": "python",
   "nbconvert_exporter": "python",
   "pygments_lexer": "ipython3",
   "version": "3.11.10"
  }
 },
 "nbformat": 4,
 "nbformat_minor": 2
}
