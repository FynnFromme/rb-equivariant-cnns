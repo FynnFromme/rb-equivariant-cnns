{
 "cells": [
  {
   "cell_type": "code",
   "execution_count": null,
   "metadata": {},
   "outputs": [],
   "source": [
    "\n",
    "#? python train.py -h\n",
    "#? python train.py steerable3DCNN 500 trainings/001\n",
    "\n",
    "#? python evaluate.py -h\n",
    "#? python evaluate.py D4cnn training1 [-eval_performance | \n",
    "#?                                     -eval_performance_per_sim |\n",
    "#?                                     -check_equivariance |\n",
    "#?                                     -animate |\n",
    "#?                                     -compute_latent_sensitivity]\n",
    "\n",
    "#? tensorboard --logdir runs\n"
   ]
  },
  {
   "cell_type": "markdown",
   "metadata": {},
   "source": [
    "# 3D Rayleigh-Bénard: Equivariant Convolutional Autoencoder"
   ]
  },
  {
   "cell_type": "code",
   "execution_count": 1,
   "metadata": {},
   "outputs": [
    {
     "name": "stderr",
     "output_type": "stream",
     "text": [
      "2025-02-05 18:24:23.790771: I tensorflow/core/util/port.cc:113] oneDNN custom operations are on. You may see slightly different numerical results due to floating-point round-off errors from different computation orders. To turn them off, set the environment variable `TF_ENABLE_ONEDNN_OPTS=0`.\n",
      "2025-02-05 18:24:23.830395: I tensorflow/core/platform/cpu_feature_guard.cc:210] This TensorFlow binary is optimized to use available CPU instructions in performance-critical operations.\n",
      "To enable the following instructions: AVX2 AVX512F AVX512_VNNI AVX512_BF16 FMA, in other operations, rebuild TensorFlow with the appropriate compiler flags.\n",
      "2025-02-05 18:24:24.523733: W tensorflow/compiler/tf2tensorrt/utils/py_utils.cc:38] TF-TRT Warning: Could not find TensorRT\n"
     ]
    }
   ],
   "source": [
    "%load_ext autoreload\n",
    "%autoreload 2\n",
    "\n",
    "import os\n",
    "import sys\n",
    "\n",
    "sys.path.append('..')\n",
    "\n",
    "from IPython.display import Video, display\n",
    "from ipywidgets import interact_manual, FloatSlider, IntSlider, BoundedIntText, Dropdown, SelectMultiple, Checkbox\n",
    "import glob\n",
    "import json\n",
    "\n",
    "from utils import training\n",
    "from utils.model_building import build_model\n",
    "from utils.evaluation import load_latent_sensitivity\n",
    "from utils import visualization"
   ]
  },
  {
   "cell_type": "markdown",
   "metadata": {},
   "source": [
    "## Hyperparameter Selection"
   ]
  },
  {
   "cell_type": "code",
   "execution_count": 3,
   "metadata": {},
   "outputs": [
    {
     "data": {
      "application/vnd.jupyter.widget-view+json": {
       "model_id": "b8e4d1998d1549e19e7c88b16ecc7654",
       "version_major": 2,
       "version_minor": 0
      },
      "text/plain": [
       "interactive(children=(Dropdown(description='model_type', options=('steerableCNN', 'steerable3DCNN', 'CNN', '3D…"
      ]
     },
     "metadata": {},
     "output_type": "display_data"
    }
   ],
   "source": [
    "model_type_widget = Dropdown(options=['steerableCNN', 'steerable3DCNN', 'CNN', '3DCNN'], value='steerableCNN')\n",
    "simulation_widget = Dropdown(options=glob.glob('*.h5', root_dir='../data/datasets'))\n",
    "rots_widget = IntSlider(min=4, max=16, step=4, value=4)\n",
    "flips_widget = Checkbox(value=True)\n",
    "ec1_widget = BoundedIntText(min=1, max=1000, value=8)\n",
    "ec2_widget = BoundedIntText(min=1, max=1000, value=16)\n",
    "ec3_widget = BoundedIntText(min=1, max=1000, value=32)\n",
    "ec4_widget = BoundedIntText(min=1, max=1000, value=64)\n",
    "p1_widget = Checkbox(value=True)\n",
    "p2_widget = Checkbox(value=True)\n",
    "p3_widget = Checkbox(value=True)\n",
    "p4_widget = Checkbox(value=True)\n",
    "latent_channels_widget = BoundedIntText(min=1, max=1000, value=32)\n",
    "h_ksize_widget = Dropdown(options=[3, 5], value=5)\n",
    "v_ksize_widget = Dropdown(options=[3, 5], value=5)\n",
    "latent_h_ksize_widget = Dropdown(options=[3, 5], value=3)\n",
    "latent_v_ksize_widget = Dropdown(options=[3, 5], value=3)\n",
    "drop_rate_widget = FloatSlider(min=0, max=1, value=0.2)\n",
    "nonlinearity_widget = Dropdown(options=['ReLU', 'ELU', 'LeakyReLU'], value='ELU')\n",
    "\n",
    "def set_default_channels(*args):\n",
    "    default_channels = {'steerableCNN': (6, 12, 23, 47),\n",
    "                        'steerable3DCNN': (24, 48, 93, 186),\n",
    "                        'CNN': (10, 20, 40, 80),\n",
    "                        '3DCNN': (24, 47, 93, 186)}[model_type_widget.value]\n",
    "    ec1_widget.value, ec2_widget.value, ec3_widget.value, ec4_widget.value = default_channels\n",
    "        \n",
    "model_type_widget.observe(set_default_channels)\n",
    "\n",
    "\n",
    "@interact_manual.options(manual_name=\"Build model\")(model_type=model_type_widget, simulation=simulation_widget,\n",
    "                                                    rots=rots_widget, flips=flips_widget, ec1=ec1_widget, ec2=ec2_widget, \n",
    "                                                    ec3=ec3_widget, ec4=ec4_widget, p1=p1_widget, p2=p2_widget, p3=p3_widget, \n",
    "                                                    p4=p4_widget, latent_channels=latent_channels_widget, \n",
    "                                                    h_ksize=h_ksize_widget, v_ksize=v_ksize_widget, \n",
    "                                                    latent_h_ksize=latent_h_ksize_widget, \n",
    "                                                    latent_v_ksize=latent_v_ksize_widget, \n",
    "                                                    drop_rate=drop_rate_widget, \n",
    "                                                    nonlinearity=nonlinearity_widget)\n",
    "def show_patterns(model_type, simulation, rots, flips, ec1, ec2, ec3, ec4, p1, p2, p3, p4, latent_channels, h_ksize, v_ksize, \n",
    "                  latent_h_ksize, latent_v_ksize, drop_rate, nonlinearity):\n",
    "    encoder_channels = [ec1, ec2, ec3, ec4]\n",
    "    pool_layers = [p1, p2, p3, p4]\n",
    "    hps = {\n",
    "        'simulation_name': simulation,\n",
    "        'rots': rots,\n",
    "        'flips': flips,\n",
    "        'encoder_channels': encoder_channels,\n",
    "        'latent_channels': latent_channels,\n",
    "        'h_kernel_size': h_ksize,\n",
    "        'v_kernel_size': v_ksize,\n",
    "        'latent_h_kernel_size': latent_h_ksize,\n",
    "        'latent_v_kernel_size': latent_v_ksize,\n",
    "        'drop_rate': drop_rate,\n",
    "        'nonlinearity': nonlinearity,\n",
    "        'pool_layers': pool_layers\n",
    "    }\n",
    "    \n",
    "    model = build_model(model_type, **hps)\n",
    "\n",
    "    model.summary()"
   ]
  },
  {
   "cell_type": "markdown",
   "metadata": {},
   "source": [
    "## Trained Model Summaries"
   ]
  },
  {
   "cell_type": "code",
   "execution_count": 5,
   "metadata": {},
   "outputs": [
    {
     "data": {
      "application/vnd.jupyter.widget-view+json": {
       "model_id": "1f613bfc538d42709f17aa1f40c4c968",
       "version_major": 2,
       "version_minor": 0
      },
      "text/plain": [
       "interactive(children=(Dropdown(description='trained_model', options=('3D-D4cnn/hp_search/001_lrschedule_lr1e-3…"
      ]
     },
     "metadata": {},
     "output_type": "display_data"
    }
   ],
   "source": [
    "trained_models_w_epoch = [os.path.join(*path.split('/')[:-1]) \n",
    "                          for path in glob.glob('**/epoch*.tar', root_dir='./trained_models', recursive=True)]\n",
    "trained_models_widget = Dropdown(options=sorted(trained_models_w_epoch))\n",
    "\n",
    "@interact_manual.options(manual_name=\"Build model\")(trained_model=trained_models_widget)\n",
    "def show_summary(trained_model, show_summary: bool = True, show_hps: bool = True):\n",
    "    model_name = trained_model.split('/')[0]\n",
    "    train_name = os.path.join(*trained_model.split('/')[1:])\n",
    "    \n",
    "    if show_summary:\n",
    "        model = training.build_and_load_trained_model('trained_models', model_name, train_name, epoch=-1)\n",
    "        model.summary()\n",
    "    \n",
    "    if show_hps:\n",
    "        print('\\nHyperparameters:')\n",
    "        hp_file = os.path.join('trained_models', model_name, train_name, 'hyperparameters.json')\n",
    "        if os.path.isfile(hp_file):\n",
    "            with open(hp_file, 'r') as f:\n",
    "                hps = json.load(f)\n",
    "                print(json.dumps(hps, indent=4)[2:-2])"
   ]
  },
  {
   "cell_type": "markdown",
   "metadata": {},
   "source": [
    "## Evaluation"
   ]
  },
  {
   "cell_type": "markdown",
   "metadata": {},
   "source": [
    "### Loss Evolution During Training"
   ]
  },
  {
   "cell_type": "code",
   "execution_count": 2,
   "metadata": {},
   "outputs": [
    {
     "data": {
      "application/vnd.jupyter.widget-view+json": {
       "model_id": "eda7673973164d12bf268fbd6edc5ad8",
       "version_major": 2,
       "version_minor": 0
      },
      "text/plain": [
       "interactive(children=(SelectMultiple(description='trained_models', options=('3D-D4cnn/hp_search/001_lrschedule…"
      ]
     },
     "metadata": {},
     "output_type": "display_data"
    }
   ],
   "source": [
    "trained_models_w_log = [os.path.join(*path.split('/')[:-1]) \n",
    "                        for path in glob.glob('**/log.json', root_dir='./trained_models', recursive=True)]\n",
    "\n",
    "trained_models_widget = SelectMultiple(options=sorted(trained_models_w_log))\n",
    "smoothing_widget = FloatSlider(min=0, max=0.9, step=0.1)\n",
    "x_axis_widget = Dropdown(options=['time', 'epochs'], value='epochs')\n",
    "\n",
    "@interact_manual.options(manual_name=\"Visualize Loss\")(trained_models=trained_models_widget, smoothing=smoothing_widget, x_axis=x_axis_widget)\n",
    "def show_loss(trained_models, two_plots=True, log_scale=False, remove_outliers=True, x_axis='epochs', smoothing=0):\n",
    "    if not trained_models: \n",
    "        print('Please select a trained model')\n",
    "        return\n",
    "    \n",
    "    model_names = [path.split('/')[0] for path in trained_models]\n",
    "    train_names = [os.path.join(*path.split('/')[1:]) for path in trained_models]\n",
    "    \n",
    "    visualization.plot_loss_history('trained_models', model_names, train_names, two_plots, log_scale, \n",
    "                                    x_axis=='time', remove_outliers, smoothing)"
   ]
  },
  {
   "cell_type": "markdown",
   "metadata": {},
   "source": [
    "### Test Performance"
   ]
  },
  {
   "cell_type": "code",
   "execution_count": 3,
   "metadata": {},
   "outputs": [
    {
     "data": {
      "application/vnd.jupyter.widget-view+json": {
       "model_id": "5318a6b497314add9a8bb144d98c0169",
       "version_major": 2,
       "version_minor": 0
      },
      "text/plain": [
       "interactive(children=(SelectMultiple(description='trained_models', options=('3D-D4cnn/hp_search/001_lrschedule…"
      ]
     },
     "metadata": {},
     "output_type": "display_data"
    }
   ],
   "source": [
    "trained_models_w_performance = [os.path.join(*path.split('/')[:-1]) \n",
    "                                for path in glob.glob('**/performance.json', root_dir='./results', recursive=True)]\n",
    "trained_models_widget = SelectMultiple(options=sorted(trained_models_w_performance))\n",
    "metric_widget = Dropdown(options=['MSE', 'RMSE', 'MAE'], value='RMSE')\n",
    "\n",
    "@interact_manual.options(manual_name=\"Plot performance\")(trained_models=trained_models_widget, metric=metric_widget)\n",
    "def show_performance(trained_models, metric):\n",
    "    if len(trained_models) < 2: \n",
    "        print('Please select at least 2 trained model')\n",
    "        return\n",
    "    \n",
    "    model_names = [path.split('/')[0] for path in trained_models]\n",
    "    train_names = [os.path.join(*path.split('/')[1:]) for path in trained_models]\n",
    "    \n",
    "    visualization.plot_performance('./results', model_names, train_names, metric.lower())"
   ]
  },
  {
   "cell_type": "markdown",
   "metadata": {},
   "source": [
    "### Test Performance per Simulation"
   ]
  },
  {
   "cell_type": "code",
   "execution_count": 6,
   "metadata": {},
   "outputs": [
    {
     "data": {
      "application/vnd.jupyter.widget-view+json": {
       "model_id": "78583093195c43b79085bc74d51300e3",
       "version_major": 2,
       "version_minor": 0
      },
      "text/plain": [
       "interactive(children=(SelectMultiple(description='trained_models', options=('3Dcnn/hp_search/001_lr1e-3', 'D4c…"
      ]
     },
     "metadata": {},
     "output_type": "display_data"
    }
   ],
   "source": [
    "trained_models_w_performance = [os.path.join(*path.split('/')[:-1]) \n",
    "                                for path in glob.glob('**/performance_per_sim.json', \n",
    "                                                      root_dir='./results', recursive=True)]\n",
    "trained_models_widget = SelectMultiple(options=sorted(trained_models_w_performance))\n",
    "metric_widget = Dropdown(options=['MSE', 'RMSE', 'MAE'], value='RMSE')\n",
    "\n",
    "@interact_manual.options(manual_name=\"Plot performance\")(trained_models=trained_models_widget, metric=metric_widget)\n",
    "def show_performance(trained_models, metric):\n",
    "    if not trained_models: \n",
    "        print('Please select a trained model')\n",
    "        return\n",
    "    \n",
    "    model_names = [path.split('/')[0] for path in trained_models]\n",
    "    train_names = [os.path.join(*path.split('/')[1:]) for path in trained_models]\n",
    "    \n",
    "    visualization.plot_performance_per_sim('./results', model_names, train_names, metric.lower())"
   ]
  },
  {
   "cell_type": "markdown",
   "metadata": {},
   "source": [
    "### Test Performance per Channel"
   ]
  },
  {
   "cell_type": "code",
   "execution_count": 7,
   "metadata": {},
   "outputs": [
    {
     "data": {
      "application/vnd.jupyter.widget-view+json": {
       "model_id": "8feaf79fc4784b049d16b2ca3d4ad4dc",
       "version_major": 2,
       "version_minor": 0
      },
      "text/plain": [
       "interactive(children=(SelectMultiple(description='trained_models', options=('D4cnn/hp_search/012_no-pool4_lc16…"
      ]
     },
     "metadata": {},
     "output_type": "display_data"
    }
   ],
   "source": [
    "trained_models_w_performance = [os.path.join(*path.split('/')[:-1]) \n",
    "                                for path in glob.glob('**/performance_per_channel.json', \n",
    "                                                      root_dir='./results', recursive=True)]\n",
    "trained_models_widget = SelectMultiple(options=sorted(trained_models_w_performance))\n",
    "metric_widget = Dropdown(options=['MSE', 'RMSE', 'MAE'], value='RMSE')\n",
    "\n",
    "@interact_manual.options(manual_name=\"Plot performance\")(trained_models=trained_models_widget, metric=metric_widget)\n",
    "def show_performance(trained_models, metric):\n",
    "    if not trained_models: \n",
    "        print('Please select a trained model')\n",
    "        return\n",
    "    \n",
    "    model_names = [path.split('/')[0] for path in trained_models]\n",
    "    train_names = [os.path.join(*path.split('/')[1:]) for path in trained_models]\n",
    "    \n",
    "    visualization.plot_performance_per_channel('./results', model_names, train_names, metric.lower())"
   ]
  },
  {
   "cell_type": "markdown",
   "metadata": {},
   "source": [
    "### Test Performance per Height"
   ]
  },
  {
   "cell_type": "code",
   "execution_count": 8,
   "metadata": {},
   "outputs": [
    {
     "data": {
      "application/vnd.jupyter.widget-view+json": {
       "model_id": "99caf87fdaca4ed1b43e15b01aba62b2",
       "version_major": 2,
       "version_minor": 0
      },
      "text/plain": [
       "interactive(children=(SelectMultiple(description='trained_models', options=('D4cnn/hp_search/012_no-pool4_lc16…"
      ]
     },
     "metadata": {},
     "output_type": "display_data"
    }
   ],
   "source": [
    "trained_models_w_performance = [os.path.join(*path.split('/')[:-1]) \n",
    "                                for path in glob.glob('**/performance_per_height.json', \n",
    "                                                      root_dir='./results', recursive=True)]\n",
    "trained_models_widget = SelectMultiple(options=sorted(trained_models_w_performance))\n",
    "metric_widget = Dropdown(options=['MSE', 'RMSE', 'MAE'], value='RMSE')\n",
    "channel_widget = Dropdown(options=['all', 't', 'u', 'v', 'w'], value='t')\n",
    "\n",
    "@interact_manual.options(manual_name=\"Plot performance\")(trained_models=trained_models_widget, metric=metric_widget,\n",
    "                                                         channel=channel_widget)\n",
    "def show_performance(trained_models, metric, channel):\n",
    "    if not trained_models: \n",
    "        print('Please select a trained model')\n",
    "        return\n",
    "    \n",
    "    model_names = [path.split('/')[0] for path in trained_models]\n",
    "    train_names = [os.path.join(*path.split('/')[1:]) for path in trained_models]\n",
    "    channel = \"tuvw\".index(channel) if channel != 'all' else None\n",
    "    visualization.plot_performance_per_height('./results', model_names, train_names, metric.lower(), channel)"
   ]
  },
  {
   "cell_type": "markdown",
   "metadata": {},
   "source": [
    "### Test Performance per Latent Size"
   ]
  },
  {
   "cell_type": "code",
   "execution_count": 4,
   "metadata": {},
   "outputs": [
    {
     "data": {
      "application/vnd.jupyter.widget-view+json": {
       "model_id": "0a95af42e971420c9aed9795bfc81edb",
       "version_major": 2,
       "version_minor": 0
      },
      "text/plain": [
       "interactive(children=(SelectMultiple(description='trained_models', options=('3D-D4cnn/hp_search/001_lrschedule…"
      ]
     },
     "metadata": {},
     "output_type": "display_data"
    }
   ],
   "source": [
    "trained_models_w_performance = [os.path.join(*path.split('/')[:-1]) \n",
    "                                for path in glob.glob('**/performance.json', \n",
    "                                                      root_dir='./results', recursive=True)]\n",
    "trained_models_widget = SelectMultiple(options=sorted(trained_models_w_performance))\n",
    "metric_widget = Dropdown(options=['MSE', 'RMSE', 'MAE'], value='RMSE')\n",
    "\n",
    "@interact_manual.options(manual_name=\"Plot performance\")(trained_models=trained_models_widget, metric=metric_widget)\n",
    "def show_performance(trained_models, metric):\n",
    "    if len(trained_models) < 2: \n",
    "        print('Please select at least 2 trained models')\n",
    "        return\n",
    "    \n",
    "    model_names = [path.split('/')[0] for path in trained_models]\n",
    "    train_names = [os.path.join(*path.split('/')[1:]) for path in trained_models]\n",
    "    visualization.plot_performance_per_hp('./trained_models', './results', model_names, train_names, \n",
    "                                          metric.lower(), 'latent_size', 'relative latent size (%)')"
   ]
  },
  {
   "cell_type": "markdown",
   "metadata": {},
   "source": [
    "### Test Performance per Parameter Count"
   ]
  },
  {
   "cell_type": "code",
   "execution_count": 9,
   "metadata": {},
   "outputs": [
    {
     "data": {
      "application/vnd.jupyter.widget-view+json": {
       "model_id": "c75bf946a8ff4d47aac776f4d4c0b203",
       "version_major": 2,
       "version_minor": 0
      },
      "text/plain": [
       "interactive(children=(SelectMultiple(description='trained_models', options=('3D-D4cnn/hp_search/001_lrschedule…"
      ]
     },
     "metadata": {},
     "output_type": "display_data"
    }
   ],
   "source": [
    "trained_models_w_performance = [os.path.join(*path.split('/')[:-1]) \n",
    "                                for path in glob.glob('**/performance.json', \n",
    "                                                      root_dir='./results', recursive=True)]\n",
    "trained_models_widget = SelectMultiple(options=sorted(trained_models_w_performance))\n",
    "metric_widget = Dropdown(options=['MSE', 'RMSE', 'MAE'], value='RMSE')\n",
    "\n",
    "@interact_manual.options(manual_name=\"Plot performance\")(trained_models=trained_models_widget, metric=metric_widget)\n",
    "def show_performance(trained_models, metric):\n",
    "    if len(trained_models) < 2: \n",
    "        print('Please select at least 2 trained models')\n",
    "        return\n",
    "    \n",
    "    model_names = [path.split('/')[0] for path in trained_models]\n",
    "    train_names = [os.path.join(*path.split('/')[1:]) for path in trained_models]\n",
    "    visualization.plot_performance_per_hp('./trained_models', './results', model_names, train_names, \n",
    "                                          metric.lower(), 'parameters')"
   ]
  },
  {
   "cell_type": "markdown",
   "metadata": {},
   "source": [
    "### Encoder Output Animation"
   ]
  },
  {
   "cell_type": "code",
   "execution_count": 10,
   "metadata": {},
   "outputs": [
    {
     "data": {
      "application/vnd.jupyter.widget-view+json": {
       "model_id": "66e25d1480e74d4a97e3fa011a1fecb4",
       "version_major": 2,
       "version_minor": 0
      },
      "text/plain": [
       "interactive(children=(Dropdown(description='trained_model', options=('D4cnn/hp_search/002_lr1e-4',), value='D4…"
      ]
     },
     "metadata": {},
     "output_type": "display_data"
    }
   ],
   "source": [
    "trained_models_w_animation = [os.path.join(*path.split('/')[:-1]) \n",
    "                              for path in glob.glob('**/animations', root_dir='./results', recursive=True)]\n",
    "trained_model_widget = Dropdown(options=sorted(trained_models_w_animation))\n",
    "feature_widget = Dropdown(options=['t', 'u', 'v', 'w'])\n",
    "dim_widget = Dropdown(options=['width', 'depth', 'height'])\n",
    "\n",
    "@interact_manual.options(manual_name=\"Show animation\")(trained_model=trained_model_widget, feature=feature_widget, dim=dim_widget)\n",
    "def show_animation(trained_model, feature='t', dim='height'):    \n",
    "    model_name = trained_model.split('/')[0]\n",
    "    train_name = os.path.join(*trained_model.split('/')[1:])\n",
    "    \n",
    "    anim_file = os.path.join('.', 'results', model_name, train_name, 'animations', feature, f'{dim}.mp4')\n",
    "    \n",
    "    if not os.path.isfile(anim_file):\n",
    "        print('There is no animation for this selection')\n",
    "    else:\n",
    "        display(Video(anim_file))"
   ]
  },
  {
   "cell_type": "markdown",
   "metadata": {},
   "source": [
    "### Latent Space Visualization (Input Sensitivity)"
   ]
  },
  {
   "cell_type": "code",
   "execution_count": 11,
   "metadata": {},
   "outputs": [
    {
     "data": {
      "application/vnd.jupyter.widget-view+json": {
       "model_id": "747204ecc6464779a4bf1bec5e21335b",
       "version_major": 2,
       "version_minor": 0
      },
      "text/plain": [
       "interactive(children=(Dropdown(description='trained_model', options=('D4cnn/hp_search/002_lr1e-4',), value='D4…"
      ]
     },
     "metadata": {},
     "output_type": "display_data"
    }
   ],
   "source": [
    "trained_models_w_sensitivity = [os.path.join(*path.split('/')[:-1]) \n",
    "                                for path in glob.glob('**/latent_sensitivity.pt', root_dir='./results', recursive=True)]\n",
    "trained_model_widget = Dropdown(options=sorted(trained_models_w_sensitivity))\n",
    "feature_widget = Dropdown(options=['t', 'u', 'v', 'w'], value='t')\n",
    "dim_widget = Dropdown(options=['width', 'depth', 'height'], value='height')\n",
    "slice_widget = IntSlider(min=0, max=31, value=0)\n",
    "num_patterns_widget = BoundedIntText(min=1, max=576, value=50)\n",
    "cols_widget = IntSlider(min=1, max=10, value=10)\n",
    "\n",
    "\n",
    "def update_slice_range(*args):\n",
    "    if dim_widget.value == 'height':\n",
    "        slice_widget.max = 31\n",
    "        slice_widget.value = min(31, slice_widget.value)\n",
    "    else:\n",
    "        slice_widget.max = 47\n",
    "        \n",
    "dim_widget.observe(update_slice_range)\n",
    "\n",
    "cached, cached_avg_sensitivity, cached_avg_abs_sensitivity = None, None, None\n",
    "\n",
    "@interact_manual.options(manual_name=\"Show patterns\")(trained_model=trained_model_widget, feature=feature_widget, \n",
    "                                                      dim=dim_widget, slice=slice_widget, num_patterns=num_patterns_widget, \n",
    "                                                      cols=cols_widget)\n",
    "def show_patterns(trained_model, feature='t', dim='height', slice=16, abs_sensitivity=False, \n",
    "                  contour=False, num_patterns=25, cols=5):\n",
    "    global cached, cached_avg_sensitivity, cached_avg_abs_sensitivity\n",
    "    \n",
    "    model_name = trained_model.split('/')[0]\n",
    "    train_name = os.path.join(*trained_model.split('/')[1:])\n",
    "    \n",
    "    if cached == trained_model:\n",
    "        avg_sensitivity, avg_abs_sensitivity = cached_avg_sensitivity, cached_avg_abs_sensitivity\n",
    "    else:\n",
    "        sensitivity_dir = os.path.join('.', 'results', model_name, train_name)\n",
    "        avg_sensitivity, avg_abs_sensitivity, n = load_latent_sensitivity(sensitivity_dir, 'latent_sensitivity')\n",
    "        cached = trained_model\n",
    "        cached_avg_sensitivity, cached_avg_abs_sensitivity = avg_sensitivity, avg_abs_sensitivity\n",
    "\n",
    "    sensitivity_data = avg_abs_sensitivity if abs_sensitivity else avg_sensitivity\n",
    "    channel = 'tuvw'.index(feature)\n",
    "    axis = ['width', 'depth', 'height'].index(dim)\n",
    "    \n",
    "    visualization.show_latent_patterns(sensitivity_data, abs_sensitivity, num_patterns, channel, \n",
    "                                       slice, axis, cols=cols, contour=contour)"
   ]
  }
 ],
 "metadata": {
  "kernelspec": {
   "display_name": "escnn",
   "language": "python",
   "name": "python3"
  },
  "language_info": {
   "codemirror_mode": {
    "name": "ipython",
    "version": 3
   },
   "file_extension": ".py",
   "mimetype": "text/x-python",
   "name": "python",
   "nbconvert_exporter": "python",
   "pygments_lexer": "ipython3",
   "version": "3.11.10"
  }
 },
 "nbformat": 4,
 "nbformat_minor": 2
}
