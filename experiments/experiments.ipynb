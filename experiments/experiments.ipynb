{
 "cells": [
  {
   "cell_type": "markdown",
   "metadata": {},
   "source": [
    "# 3D Rayleigh-Bénard: Equivariant Forecasting"
   ]
  },
  {
   "cell_type": "code",
   "execution_count": 5,
   "metadata": {},
   "outputs": [
    {
     "name": "stdout",
     "output_type": "stream",
     "text": [
      "The autoreload extension is already loaded. To reload it, use:\n",
      "  %reload_ext autoreload\n"
     ]
    }
   ],
   "source": [
    "%load_ext autoreload\n",
    "%autoreload 2\n",
    "\n",
    "import os\n",
    "import sys\n",
    "\n",
    "sys.path.append('..')\n",
    "\n",
    "from IPython.display import Video, display\n",
    "from ipywidgets import interact_manual, FloatSlider, IntSlider, BoundedIntText, Dropdown, SelectMultiple, Checkbox, Textarea\n",
    "import glob\n",
    "import json\n",
    "\n",
    "from utils.model_building import build_autoencoder, build_forecaster, build_and_load_trained_model\n",
    "from utils.evaluation import load_latent_sensitivity\n",
    "from utils import visualization"
   ]
  },
  {
   "cell_type": "markdown",
   "metadata": {},
   "source": [
    "## Hyperparameter Selection"
   ]
  },
  {
   "cell_type": "markdown",
   "metadata": {},
   "source": [
    "### Autoencoder"
   ]
  },
  {
   "cell_type": "code",
   "execution_count": null,
   "metadata": {},
   "outputs": [
    {
     "data": {
      "application/vnd.jupyter.widget-view+json": {
       "model_id": "91ed1d1c8c7b4730b92996929abb2c42",
       "version_major": 2,
       "version_minor": 0
      },
      "text/plain": [
       "interactive(children=(Dropdown(description='model_type', options=('steerableCNN', 'steerable3DCNN', 'CNN', '3D…"
      ]
     },
     "metadata": {},
     "output_type": "display_data"
    }
   ],
   "source": [
    "conv_type_widget = Dropdown(options=['SteerableConv', 'SteerableConv3D', 'Conv', 'Conv3D'], value='SteerableConv')\n",
    "simulation_widget = Dropdown(options=glob.glob('*.h5', root_dir='../data/datasets'))\n",
    "rots_widget = IntSlider(min=4, max=16, step=4, value=4)\n",
    "flips_widget = Checkbox(value=True)\n",
    "encoder_channels_widget = Textarea()\n",
    "pooling_layers_widget = Textarea(value='y,n,y,n,y')\n",
    "latent_channels_widget = BoundedIntText(min=1, max=1000, value=32)\n",
    "h_ksize_widget = Dropdown(options=[3, 5], value=5)\n",
    "v_ksize_widget = Dropdown(options=[3, 5], value=5)\n",
    "v_shares_widget = Textarea(value='1,1,1,1,1,1')\n",
    "latent_h_ksize_widget = Dropdown(options=[3, 5], value=3)\n",
    "latent_v_ksize_widget = Dropdown(options=[3, 5], value=3)\n",
    "drop_rate_widget = FloatSlider(min=0, max=1, value=0.2)\n",
    "nonlinearity_widget = Dropdown(options=['ReLU', 'ELU', 'LeakyReLU'], value='ELU')\n",
    "\n",
    "def set_default_channels(*args):\n",
    "    default_channels = {'SteerableConv': \"6,12,12,24,24\",\n",
    "                        'SteerableConv3D': \"20,40,40,80,80\",\n",
    "                        'Conv': \"10,20,20,40,40\",\n",
    "                        'Conv3D': \"30,60,60,118,118\"}[conv_type_widget.value]\n",
    "    encoder_channels_widget.value = default_channels\n",
    "        \n",
    "conv_type_widget.observe(set_default_channels)\n",
    "\n",
    "\n",
    "@interact_manual.options(manual_name=\"Build model\")(conv_type=conv_type_widget, simulation=simulation_widget,\n",
    "                                                    rots=rots_widget, flips=flips_widget, encoder_channels=encoder_channels_widget,\n",
    "                                                    pooling_layers=pooling_layers_widget, latent_channels=latent_channels_widget, \n",
    "                                                    h_ksize=h_ksize_widget, v_ksize=v_ksize_widget, \n",
    "                                                    latent_h_ksize=latent_h_ksize_widget, \n",
    "                                                    latent_v_ksize=latent_v_ksize_widget, \n",
    "                                                    v_shares=v_shares_widget,\n",
    "                                                    drop_rate=drop_rate_widget, \n",
    "                                                    nonlinearity=nonlinearity_widget)\n",
    "def show_patterns(conv_type, simulation, rots, flips, encoder_channels, pooling_layers, latent_channels, h_ksize, v_ksize, \n",
    "                  v_shares, latent_h_ksize, latent_v_ksize, drop_rate, nonlinearity):\n",
    "    encoder_channels = [int(c.strip()) for c in encoder_channels.split(',')]\n",
    "    v_shares = [int(c.strip()) for c in v_shares.split(',')]\n",
    "    true_strings = ['1', 't', 'y', 'true', 'yes', 'p']\n",
    "    pool_layers = [p.strip().lower() in true_strings for p in pooling_layers.split(',')]\n",
    "    assert len(encoder_channels) == len(pool_layers)\n",
    "    \n",
    "    hps = {\n",
    "        'simulation_name': simulation,\n",
    "        'rots': rots,\n",
    "        'flips': flips,\n",
    "        'encoder_channels': encoder_channels,\n",
    "        'latent_channels': latent_channels,\n",
    "        'h_kernel_size': h_ksize,\n",
    "        'v_kernel_size': v_ksize,\n",
    "        'latent_h_kernel_size': latent_h_ksize,\n",
    "        'latent_v_kernel_size': latent_v_ksize,\n",
    "        'v_shares': v_shares,\n",
    "        'drop_rate': drop_rate,\n",
    "        'nonlinearity': nonlinearity,\n",
    "        'pool_layers': pool_layers\n",
    "    }\n",
    "    \n",
    "    model = build_autoencoder(conv_type, **hps)\n",
    "\n",
    "    model.summary()"
   ]
  },
  {
   "cell_type": "markdown",
   "metadata": {},
   "source": [
    "### Forecaster"
   ]
  },
  {
   "cell_type": "code",
   "execution_count": null,
   "metadata": {},
   "outputs": [
    {
     "data": {
      "application/vnd.jupyter.widget-view+json": {
       "model_id": "ccc95c43f46c40cfad171933c295e561",
       "version_major": 2,
       "version_minor": 0
      },
      "text/plain": [
       "interactive(children=(Dropdown(description='model_type', options=('steerableCNN', '3DCNN'), value='steerableCN…"
      ]
     },
     "metadata": {},
     "output_type": "display_data"
    }
   ],
   "source": [
    "conv_type_widget = Dropdown(options=['SteerableConv', 'Conv3D'], value='SteerableConv')\n",
    "autoencoder_widget = Dropdown(options=[])\n",
    "rots_widget = IntSlider(min=4, max=16, step=4, value=4)\n",
    "flips_widget = Checkbox(value=True)\n",
    "lstm_channels_widget = Textarea(value='8,8')\n",
    "residual_connection_widget = Checkbox(value=True)\n",
    "h_ksize_widget = Dropdown(options=[3, 5], value=3)\n",
    "v_ksize_widget = Dropdown(options=[3, 5], value=3)\n",
    "drop_rate_widget = FloatSlider(min=0, max=1, value=0.2)\n",
    "recurrent_drop_rate_widget = FloatSlider(min=0, max=1, value=0)\n",
    "nonlinearity_widget = Dropdown(options=['ReLU', 'tanh', 'ELU'], value='tanh')\n",
    "include_autoencoder_widget = Checkbox(value=False)\n",
    "use_lstm_encoder_widget = Checkbox(value=True)\n",
    "    \n",
    "def update_autoencoders(*args):\n",
    "    model_name = {'SteerableConv': f'{\"D\" if flips_widget.value else \"C\"}{rots_widget.value}cnn',\n",
    "                  'SteerableConv3D': f'3D-{\"D\" if flips_widget.value else \"C\"}{rots_widget.value}cnn',\n",
    "                  'Conv': 'cnn',\n",
    "                  'Conv3D': '3Dcnn'}[conv_type_widget.value]\n",
    "    trained_autoencoders = [os.path.join(*path.split('/')[:-1]) \n",
    "                          for path in glob.glob(f'{model_name}/**/epoch*.tar', root_dir='./trained_models/AE', recursive=True)]\n",
    "    autoencoder_widget.options = sorted(trained_autoencoders)\n",
    "    autoencoder_widget.value = autoencoder_widget.options[0]\n",
    "        \n",
    "conv_type_widget.observe(update_autoencoders)\n",
    "\n",
    "\n",
    "@interact_manual.options(manual_name=\"Build model\")(conv_type=conv_type_widget, autoencoder=autoencoder_widget,\n",
    "                                                    rots=rots_widget, flips=flips_widget, lstm_channels=lstm_channels_widget,\n",
    "                                                    h_ksize=h_ksize_widget, v_ksize=v_ksize_widget, \n",
    "                                                    drop_rate=drop_rate_widget, recurrent_drop_rate=recurrent_drop_rate_widget, \n",
    "                                                    nonlinearity=nonlinearity_widget, residual_connection=residual_connection_widget,\n",
    "                                                    include_autoencoder=include_autoencoder_widget,\n",
    "                                                    use_lstm_encoder=use_lstm_encoder_widget)\n",
    "def show_patterns(conv_type, autoencoder, rots, flips, lstm_channels, h_ksize, v_ksize, drop_rate, recurrent_drop_rate,\n",
    "                  nonlinearity, residual_connection, include_autoencoder, use_lstm_encoder):\n",
    "    ae_model_name = os.path.join(*autoencoder.split('/')[:2])\n",
    "    ae_train_name = os.path.join(*autoencoder.split('/')[2:])\n",
    "    \n",
    "    lstm_channels = [int(c.strip()) for c in lstm_channels.split(',')]\n",
    "    \n",
    "    hps = {\n",
    "    'conv_type': conv_type,\n",
    "    'ae_model_name': ae_model_name,\n",
    "    'ae_train_name': ae_train_name,\n",
    "    'h_kernel_size': h_ksize,\n",
    "    'v_kernel_size': v_ksize,\n",
    "    'drop_rate': drop_rate,\n",
    "    'recurrent_drop_rate': recurrent_drop_rate,\n",
    "    'nonlinearity': nonlinearity,\n",
    "    'flips': flips,\n",
    "    'rots': rots,\n",
    "    'lstm_channels': lstm_channels,\n",
    "    'parallel_ops': True,\n",
    "    'residual_connection': residual_connection,\n",
    "    'include_autoencoder': include_autoencoder,\n",
    "    'use_lstm_encoder': use_lstm_encoder\n",
    "}\n",
    "    \n",
    "    model = build_forecaster(models_dir='./trained_models', **hps)\n",
    "\n",
    "    model.summary()"
   ]
  },
  {
   "cell_type": "markdown",
   "metadata": {},
   "source": [
    "## Trained Model Summaries"
   ]
  },
  {
   "cell_type": "code",
   "execution_count": 5,
   "metadata": {},
   "outputs": [
    {
     "data": {
      "application/vnd.jupyter.widget-view+json": {
       "model_id": "96e1b6cb83cb4f5ab1655c8d2ea7b705",
       "version_major": 2,
       "version_minor": 0
      },
      "text/plain": [
       "interactive(children=(Dropdown(description='trained_model', options=('AE/3D-D4cnn/hp_search/001_lrschedule_lr1…"
      ]
     },
     "metadata": {},
     "output_type": "display_data"
    }
   ],
   "source": [
    "trained_models_w_epoch = [os.path.join(*path.split('/')[:-1]) \n",
    "                          for path in glob.glob('**/epoch*.tar', root_dir='./trained_models', recursive=True)]\n",
    "trained_models_widget = Dropdown(options=sorted(trained_models_w_epoch))\n",
    "\n",
    "@interact_manual.options(manual_name=\"Build model\")(trained_model=trained_models_widget)\n",
    "def show_summary(trained_model, show_summary: bool = True, show_hps: bool = True):\n",
    "    model_name = os.path.join(*trained_model.split('/')[:2])\n",
    "    train_name = os.path.join(*trained_model.split('/')[2:])\n",
    "    \n",
    "    if show_summary:\n",
    "        model = build_and_load_trained_model('trained_models', model_name, train_name, epoch=-1)\n",
    "        model.summary()\n",
    "    \n",
    "    if show_hps:\n",
    "        print('\\nHyperparameters:')\n",
    "        hp_file = os.path.join('trained_models', model_name, train_name, 'hyperparameters.json')\n",
    "        if os.path.isfile(hp_file):\n",
    "            with open(hp_file, 'r') as f:\n",
    "                hps = json.load(f)\n",
    "                print(json.dumps(hps, indent=4)[2:-2])"
   ]
  },
  {
   "cell_type": "markdown",
   "metadata": {},
   "source": [
    "## Evaluation"
   ]
  },
  {
   "cell_type": "markdown",
   "metadata": {},
   "source": [
    "### Loss Evolution During Training"
   ]
  },
  {
   "cell_type": "code",
   "execution_count": 2,
   "metadata": {},
   "outputs": [
    {
     "data": {
      "application/vnd.jupyter.widget-view+json": {
       "model_id": "12ff0a27307d4b4982e0ce6cd8aae8cd",
       "version_major": 2,
       "version_minor": 0
      },
      "text/plain": [
       "interactive(children=(SelectMultiple(description='trained_models', options=('AE/3D-D4cnn/hp_search/001_lrsched…"
      ]
     },
     "metadata": {},
     "output_type": "display_data"
    }
   ],
   "source": [
    "trained_models_w_log = [os.path.join(*path.split('/')[:-1]) \n",
    "                        for path in glob.glob('**/log.json', root_dir='./trained_models', recursive=True)]\n",
    "\n",
    "trained_models_widget = SelectMultiple(options=sorted(trained_models_w_log))\n",
    "smoothing_widget = FloatSlider(min=0, max=0.9, step=0.05)\n",
    "x_axis_widget = Dropdown(options=['time', 'epochs'], value='epochs')\n",
    "\n",
    "@interact_manual.options(manual_name=\"Visualize Loss\")(trained_models=trained_models_widget, smoothing=smoothing_widget, x_axis=x_axis_widget)\n",
    "def show_loss(trained_models, two_plots=True, log_scale=False, remove_outliers=True, x_axis='epochs', smoothing=0):\n",
    "    if not trained_models: \n",
    "        print('Please select a trained model')\n",
    "        return\n",
    "    \n",
    "    model_names = [os.path.join(*path.split('/')[:2]) for path in trained_models]\n",
    "    train_names = [os.path.join(*path.split('/')[2:]) for path in trained_models]\n",
    "    \n",
    "    visualization.plot_loss_history('trained_models', model_names, train_names, two_plots, log_scale, \n",
    "                                    x_axis=='time', remove_outliers, smoothing)"
   ]
  },
  {
   "cell_type": "markdown",
   "metadata": {},
   "source": [
    "### Test Performance"
   ]
  },
  {
   "cell_type": "code",
   "execution_count": 3,
   "metadata": {},
   "outputs": [
    {
     "data": {
      "application/vnd.jupyter.widget-view+json": {
       "model_id": "429e104a87d14627acd96173d3bcf2de",
       "version_major": 2,
       "version_minor": 0
      },
      "text/plain": [
       "interactive(children=(SelectMultiple(description='trained_models', options=('AE/3Dcnn/hp_search/008_3layer_lc3…"
      ]
     },
     "metadata": {},
     "output_type": "display_data"
    }
   ],
   "source": [
    "trained_models_w_performance = [os.path.join(*path.split('/')[:-1]) \n",
    "                                for path in glob.glob('**/performance.json', root_dir='./results', recursive=True)]\n",
    "trained_models_widget = SelectMultiple(options=sorted(trained_models_w_performance))\n",
    "metric_widget = Dropdown(options=['MSE', 'RMSE', 'MAE'], value='RMSE')\n",
    "show_train_widget = Checkbox(value=False)\n",
    "group_same_model_widget = Checkbox(value=False)\n",
    "\n",
    "@interact_manual.options(manual_name=\"Plot performance\")(trained_models=trained_models_widget, metric=metric_widget,\n",
    "                                                         show_train=show_train_widget, \n",
    "                                                         group_same_model=group_same_model_widget)\n",
    "def show_performance(trained_models, metric, show_train, group_same_model):\n",
    "    if len(trained_models) == 0: \n",
    "        print('Please select a trained model')\n",
    "        return\n",
    "    \n",
    "    model_names = [os.path.join(*path.split('/')[:2]) for path in trained_models]\n",
    "    train_names = [os.path.join(*path.split('/')[2:]) for path in trained_models]\n",
    "    \n",
    "    visualization.plot_performance('./results', model_names, train_names, metric.lower(), group_same_model, show_train)"
   ]
  },
  {
   "cell_type": "markdown",
   "metadata": {},
   "source": [
    "### Autoregressive Test Performance"
   ]
  },
  {
   "cell_type": "code",
   "execution_count": null,
   "metadata": {},
   "outputs": [
    {
     "data": {
      "application/vnd.jupyter.widget-view+json": {
       "model_id": "2e1d5203777045d98911748389ee6694",
       "version_major": 2,
       "version_minor": 0
      },
      "text/plain": [
       "interactive(children=(SelectMultiple(description='trained_models', options=('FC/3Dcnn/test/002_encoder_decoder…"
      ]
     },
     "metadata": {},
     "output_type": "display_data"
    }
   ],
   "source": [
    "trained_models_w_performance = [os.path.join(*path.split('/')[:-1]) \n",
    "                                for path in glob.glob('**/autoregressive_performance.json', root_dir='./results', recursive=True)]\n",
    "trained_models_widget = SelectMultiple(options=sorted(trained_models_w_performance))\n",
    "metric_widget = Dropdown(options=['MSE', 'RMSE', 'MAE'], value='MAE')\n",
    "show_train_widget = Checkbox(value=False)\n",
    "show_bounds_widget = Checkbox(value=False)\n",
    "median_widget = Checkbox(value=False)\n",
    "\n",
    "@interact_manual.options(manual_name=\"Plot performance\")(trained_models=trained_models_widget, metric=metric_widget,\n",
    "                                                         show_train=show_train_widget, show_bounds=show_bounds_widget,\n",
    "                                                         median=median_widget)\n",
    "def show_performance(trained_models, metric, show_train, show_bounds, median):\n",
    "    if len(trained_models) < 1: \n",
    "        print('Please select a trained model')\n",
    "        return\n",
    "    model_names = [os.path.join(*path.split('/')[:2]) for path in trained_models]\n",
    "    train_names = [os.path.join(*path.split('/')[2:]) for path in trained_models]\n",
    "    \n",
    "    visualization.plot_autoregressive_performance('./results', model_names, train_names, metric.lower(), \n",
    "                                                  show_train, show_bounds, median=median)"
   ]
  },
  {
   "cell_type": "markdown",
   "metadata": {},
   "source": [
    "### Test Performance per Simulation"
   ]
  },
  {
   "cell_type": "code",
   "execution_count": null,
   "metadata": {},
   "outputs": [
    {
     "data": {
      "application/vnd.jupyter.widget-view+json": {
       "model_id": "b86312416e294544b7c1d500227100b0",
       "version_major": 2,
       "version_minor": 0
      },
      "text/plain": [
       "interactive(children=(SelectMultiple(description='trained_models', options=('AE/3Dcnn/parameters/07_200_000', …"
      ]
     },
     "metadata": {},
     "output_type": "display_data"
    }
   ],
   "source": [
    "trained_models_w_performance = [os.path.join(*path.split('/')[:-1]) \n",
    "                                for path in glob.glob('**/performance_per_sim.json', \n",
    "                                                      root_dir='./results', recursive=True)]\n",
    "trained_models_widget = SelectMultiple(options=sorted(trained_models_w_performance))\n",
    "metric_widget = Dropdown(options=['MSE', 'RMSE', 'MAE'], value='RMSE')\n",
    "\n",
    "@interact_manual.options(manual_name=\"Plot performance\")(trained_models=trained_models_widget, metric=metric_widget)\n",
    "def show_performance(trained_models, metric):\n",
    "    if not trained_models: \n",
    "        print('Please select a trained model')\n",
    "        return\n",
    "    \n",
    "    model_names = [os.path.join(*path.split('/')[:2]) for path in trained_models]\n",
    "    train_names = [os.path.join(*path.split('/')[2:]) for path in trained_models]\n",
    "    \n",
    "    visualization.plot_performance_per_sim('./results', model_names, train_names, metric.lower())"
   ]
  },
  {
   "cell_type": "markdown",
   "metadata": {},
   "source": [
    "### Test Performance per Channel"
   ]
  },
  {
   "cell_type": "code",
   "execution_count": null,
   "metadata": {},
   "outputs": [
    {
     "data": {
      "application/vnd.jupyter.widget-view+json": {
       "model_id": "48cae9da6a8b490293618185c616cd65",
       "version_major": 2,
       "version_minor": 0
      },
      "text/plain": [
       "interactive(children=(SelectMultiple(description='trained_models', options=('AE/3Dcnn/parameters/07_200_000', …"
      ]
     },
     "metadata": {},
     "output_type": "display_data"
    }
   ],
   "source": [
    "trained_models_w_performance = [os.path.join(*path.split('/')[:-1]) \n",
    "                                for path in glob.glob('**/performance_per_channel.json', \n",
    "                                                      root_dir='./results', recursive=True)]\n",
    "trained_models_widget = SelectMultiple(options=sorted(trained_models_w_performance))\n",
    "metric_widget = Dropdown(options=['MSE', 'RMSE', 'MAE'], value='RMSE')\n",
    "show_train_widget = Checkbox(value=False)\n",
    "\n",
    "@interact_manual.options(manual_name=\"Plot performance\")(trained_models=trained_models_widget, metric=metric_widget,\n",
    "                                                         show_train=show_train_widget)\n",
    "def show_performance(trained_models, metric, show_train):\n",
    "    if not trained_models: \n",
    "        print('Please select a trained model')\n",
    "        return\n",
    "    \n",
    "    model_names = [os.path.join(*path.split('/')[:2]) for path in trained_models]\n",
    "    train_names = [os.path.join(*path.split('/')[2:]) for path in trained_models]\n",
    "    \n",
    "    visualization.plot_performance_per_channel('./results', model_names, train_names, metric.lower(), show_train)"
   ]
  },
  {
   "cell_type": "markdown",
   "metadata": {},
   "source": [
    "### Test Performance per Height"
   ]
  },
  {
   "cell_type": "code",
   "execution_count": null,
   "metadata": {},
   "outputs": [
    {
     "data": {
      "application/vnd.jupyter.widget-view+json": {
       "model_id": "af8777b43f23419f993892b1b5f1e493",
       "version_major": 2,
       "version_minor": 0
      },
      "text/plain": [
       "interactive(children=(SelectMultiple(description='trained_models', options=('AE/3Dcnn/parameters/07_200_000', …"
      ]
     },
     "metadata": {},
     "output_type": "display_data"
    }
   ],
   "source": [
    "trained_models_w_performance = [os.path.join(*path.split('/')[:-1]) \n",
    "                                for path in glob.glob('**/performance_per_height.json', \n",
    "                                                      root_dir='./results', recursive=True)]\n",
    "trained_models_widget = SelectMultiple(options=sorted(trained_models_w_performance))\n",
    "metric_widget = Dropdown(options=['MSE', 'RMSE', 'MAE'], value='RMSE')\n",
    "channel_widget = Dropdown(options=['all', 't', 'u', 'v', 'w'], value='t')\n",
    "show_train_widget = Checkbox(value=False)\n",
    "\n",
    "@interact_manual.options(manual_name=\"Plot performance\")(trained_models=trained_models_widget, metric=metric_widget,\n",
    "                                                         channel=channel_widget, show_train=show_train_widget)\n",
    "def show_performance(trained_models, metric, channel, show_train):\n",
    "    if not trained_models: \n",
    "        print('Please select a trained model')\n",
    "        return\n",
    "    \n",
    "    model_names = [os.path.join(*path.split('/')[:2]) for path in trained_models]\n",
    "    train_names = [os.path.join(*path.split('/')[2:]) for path in trained_models]\n",
    "    channel = \"tuvw\".index(channel) if channel != 'all' else None\n",
    "    visualization.plot_performance_per_height('./results', model_names, train_names, metric.lower(), channel, show_train)"
   ]
  },
  {
   "cell_type": "markdown",
   "metadata": {},
   "source": [
    "### Test Performance per Latent Size"
   ]
  },
  {
   "cell_type": "code",
   "execution_count": null,
   "metadata": {},
   "outputs": [],
   "source": [
    "trained_models_w_performance = [os.path.join(*path.split('/')[:-1])\n",
    "                                for path in glob.glob('AE/**/performance.json', \n",
    "                                                      root_dir='./results/', recursive=True)]\n",
    "trained_models_widget = SelectMultiple(options=sorted(trained_models_w_performance))\n",
    "metric_widget = Dropdown(options=['MSE', 'RMSE', 'MAE'], value='RMSE')\n",
    "\n",
    "@interact_manual.options(manual_name=\"Plot performance\")(trained_models=trained_models_widget, metric=metric_widget)\n",
    "def show_performance(trained_models, metric):\n",
    "    if len(trained_models) == 0: \n",
    "        print('Please select a trained models')\n",
    "        return\n",
    "    \n",
    "    model_names = [os.path.join(*path.split('/')[:2]) for path in trained_models]\n",
    "    train_names = [os.path.join(*path.split('/')[2:]) for path in trained_models]\n",
    "    visualization.plot_performance_per_hp('./trained_models', './results', model_names, train_names, \n",
    "                                          metric.lower(), 'latent_size', 'relative latent size (%)')"
   ]
  },
  {
   "cell_type": "markdown",
   "metadata": {},
   "source": [
    "### Test Performance per Parameter Count"
   ]
  },
  {
   "cell_type": "code",
   "execution_count": null,
   "metadata": {},
   "outputs": [
    {
     "data": {
      "application/vnd.jupyter.widget-view+json": {
       "model_id": "2aec53d7103448bcb16ceb85df03aac5",
       "version_major": 2,
       "version_minor": 0
      },
      "text/plain": [
       "interactive(children=(SelectMultiple(description='trained_models', options=('AE/3Dcnn/hp_search/008_3layer_lc3…"
      ]
     },
     "metadata": {},
     "output_type": "display_data"
    }
   ],
   "source": [
    "trained_models_w_performance = [os.path.join(*path.split('/')[:-1]) \n",
    "                                for path in glob.glob('**/performance.json', \n",
    "                                                      root_dir='./results', recursive=True)]\n",
    "trained_models_widget = SelectMultiple(options=sorted(trained_models_w_performance))\n",
    "metric_widget = Dropdown(options=['MSE', 'RMSE', 'MAE'], value='RMSE')\n",
    "rounding_widget = Dropdown(options=['1M', '100k', '10k', '1k'], value='100k')\n",
    "show_train_widget = Checkbox(value=False)\n",
    "fill_error_widget = Checkbox(value=True)\n",
    "\n",
    "@interact_manual.options(manual_name=\"Plot performance\")(trained_models=trained_models_widget, metric=metric_widget,\n",
    "                                                         rounding=rounding_widget, show_train=show_train_widget,\n",
    "                                                         fill_error=fill_error_widget)\n",
    "def show_performance(trained_models, metric, rounding, show_train, fill_error):\n",
    "    if len(trained_models) < 2: \n",
    "        print('Please select at least 2 trained models')\n",
    "        return\n",
    "    \n",
    "    rounding = {'1M': -6, '100k': -5, '10k': -4, '1k': -3}[rounding]\n",
    "    \n",
    "    model_names = [os.path.join(*path.split('/')[:2]) for path in trained_models]\n",
    "    train_names = [os.path.join(*path.split('/')[2:]) for path in trained_models]\n",
    "    visualization.plot_performance_per_hp('./trained_models', './results', model_names, train_names, \n",
    "                                          metric.lower(), 'parameters', rounding=rounding, show_train=show_train,\n",
    "                                          fill_error=fill_error)"
   ]
  },
  {
   "cell_type": "markdown",
   "metadata": {},
   "source": [
    "### Model Output Animation"
   ]
  },
  {
   "cell_type": "code",
   "execution_count": 14,
   "metadata": {},
   "outputs": [
    {
     "data": {
      "application/vnd.jupyter.widget-view+json": {
       "model_id": "7516d48d26034d8ea7e75aada89c92ad",
       "version_major": 2,
       "version_minor": 0
      },
      "text/plain": [
       "interactive(children=(Dropdown(description='trained_model', options=('AE/3Dcnn/latent_sizes/8channels', 'AE/3D…"
      ]
     },
     "metadata": {},
     "output_type": "display_data"
    }
   ],
   "source": [
    "trained_models_w_animation = [os.path.join(*path.split('/')[:-1]) \n",
    "                              for path in glob.glob('**/animations', root_dir='./results', recursive=True)]\n",
    "trained_model_widget = Dropdown(options=sorted(trained_models_w_animation))\n",
    "feature_widget = Dropdown(options=['t', 'u', 'v', 'w'])\n",
    "dim_widget = Dropdown(options=['width', 'depth', 'height'])\n",
    "\n",
    "@interact_manual.options(manual_name=\"Show animation\")(trained_model=trained_model_widget, feature=feature_widget, dim=dim_widget)\n",
    "def show_animation(trained_model, feature='t', dim='height'):    \n",
    "    model_name = os.path.join(*trained_model.split('/')[:2])\n",
    "    train_name = os.path.join(*trained_model.split('/')[2:])\n",
    "    \n",
    "    anim_file = os.path.join('.', 'results', model_name, train_name, 'animations', feature, f'{dim}.mp4')\n",
    "    \n",
    "    if not os.path.isfile(anim_file):\n",
    "        print('There is no animation for this selection')\n",
    "    else:\n",
    "        display(Video(anim_file))"
   ]
  },
  {
   "cell_type": "markdown",
   "metadata": {},
   "source": [
    "### Latent Space Visualization (Input Sensitivity)"
   ]
  },
  {
   "cell_type": "code",
   "execution_count": 15,
   "metadata": {},
   "outputs": [
    {
     "data": {
      "application/vnd.jupyter.widget-view+json": {
       "model_id": "386f7947d672422aac217a43fce05e73",
       "version_major": 2,
       "version_minor": 0
      },
      "text/plain": [
       "interactive(children=(Dropdown(description='trained_model', options=('3Dcnn/latent_sizes/8channels', '3Dcnn/pa…"
      ]
     },
     "metadata": {},
     "output_type": "display_data"
    }
   ],
   "source": [
    "trained_models_w_sensitivity = [os.path.join(*path.split('/')[:-1]) \n",
    "                                for path in glob.glob('**/latent_sensitivity.pt', root_dir='./results/AE', recursive=True)]\n",
    "trained_model_widget = Dropdown(options=sorted(trained_models_w_sensitivity))\n",
    "feature_widget = Dropdown(options=['t', 'u', 'v', 'w'], value='t')\n",
    "dim_widget = Dropdown(options=['width', 'depth', 'height'], value='height')\n",
    "slice_widget = IntSlider(min=0, max=31, value=0)\n",
    "auto_slice_widget = Checkbox(value=True)\n",
    "num_patterns_widget = BoundedIntText(min=1, max=576, value=50)\n",
    "cols_widget = IntSlider(min=1, max=10, value=10)\n",
    "unified_cbar_widget = Checkbox(value=False)\n",
    "\n",
    "\n",
    "def update_slice_range(*args):\n",
    "    if dim_widget.value == 'height':\n",
    "        slice_widget.max = 31\n",
    "        slice_widget.value = min(31, slice_widget.value)\n",
    "    else:\n",
    "        slice_widget.max = 47\n",
    "        \n",
    "dim_widget.observe(update_slice_range)\n",
    "\n",
    "cached, cached_avg_sensitivity, cached_avg_abs_sensitivity = None, None, None\n",
    "\n",
    "@interact_manual.options(manual_name=\"Show patterns\")(trained_model=trained_model_widget, feature=feature_widget, \n",
    "                                                      dim=dim_widget, slice=slice_widget, auto_slice=auto_slice_widget, \n",
    "                                                      num_patterns=num_patterns_widget, cols=cols_widget,\n",
    "                                                      unified_cbar=unified_cbar_widget)\n",
    "def show_patterns(trained_model, feature='t', dim='height', slice=16, auto_slice=False,\n",
    "                  abs_sensitivity=False, contour=False, num_patterns=25, cols=5,\n",
    "                  unified_cbar=True):\n",
    "    global cached, cached_avg_sensitivity, cached_avg_abs_sensitivity\n",
    "    \n",
    "    model_name = trained_model.split('/')[0]\n",
    "    train_name = os.path.join(*trained_model.split('/')[1:])\n",
    "    \n",
    "    if cached == trained_model:\n",
    "        avg_sensitivity, avg_abs_sensitivity = cached_avg_sensitivity, cached_avg_abs_sensitivity\n",
    "    else:\n",
    "        sensitivity_dir = os.path.join('.', 'results/AE', model_name, train_name)\n",
    "        avg_sensitivity, avg_abs_sensitivity, n = load_latent_sensitivity(sensitivity_dir, 'latent_sensitivity')\n",
    "        cached = trained_model\n",
    "        cached_avg_sensitivity, cached_avg_abs_sensitivity = avg_sensitivity, avg_abs_sensitivity\n",
    "\n",
    "    sensitivity_data = avg_abs_sensitivity if abs_sensitivity else avg_sensitivity\n",
    "    channel = 'tuvw'.index(feature)\n",
    "    axis = ['width', 'depth', 'height'].index(dim)\n",
    "    if auto_slice:\n",
    "        slice = None\n",
    "    \n",
    "    visualization.show_latent_patterns(sensitivity_data, abs_sensitivity, num_patterns, channel, \n",
    "                                       slice, axis, cols=cols, contour=contour, unified_cbar=unified_cbar)"
   ]
  }
 ],
 "metadata": {
  "kernelspec": {
   "display_name": "escnn",
   "language": "python",
   "name": "python3"
  },
  "language_info": {
   "codemirror_mode": {
    "name": "ipython",
    "version": 3
   },
   "file_extension": ".py",
   "mimetype": "text/x-python",
   "name": "python",
   "nbconvert_exporter": "python",
   "pygments_lexer": "ipython3",
   "version": "3.11.10"
  }
 },
 "nbformat": 4,
 "nbformat_minor": 2
}
