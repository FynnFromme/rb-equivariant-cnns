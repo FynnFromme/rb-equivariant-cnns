{
 "cells": [
  {
   "cell_type": "markdown",
   "metadata": {},
   "source": [
    "# 3D Rayleigh-Bénard: Equivariant Convolutional Autoencoder"
   ]
  },
  {
   "cell_type": "code",
   "execution_count": 1,
   "metadata": {},
   "outputs": [
    {
     "name": "stderr",
     "output_type": "stream",
     "text": [
      "2025-01-04 17:51:18.237837: I tensorflow/core/util/port.cc:113] oneDNN custom operations are on. You may see slightly different numerical results due to floating-point round-off errors from different computation orders. To turn them off, set the environment variable `TF_ENABLE_ONEDNN_OPTS=0`.\n",
      "2025-01-04 17:51:18.270927: I tensorflow/core/platform/cpu_feature_guard.cc:210] This TensorFlow binary is optimized to use available CPU instructions in performance-critical operations.\n",
      "To enable the following instructions: AVX2 AVX512F AVX512_VNNI AVX512_BF16 FMA, in other operations, rebuild TensorFlow with the appropriate compiler flags.\n",
      "2025-01-04 17:51:18.820799: W tensorflow/compiler/tf2tensorrt/utils/py_utils.cc:38] TF-TRT Warning: Could not find TensorRT\n"
     ]
    }
   ],
   "source": [
    "%load_ext autoreload\n",
    "%autoreload 2\n",
    "\n",
    "import os\n",
    "import sys\n",
    "sys.path.append('..')\n",
    "\n",
    "from utils import data_reader\n",
    "from utils.data_augmentation import DataAugmentation\n",
    "from torch.utils.data import DataLoader\n",
    "\n",
    "import escnn\n",
    "from escnn import gspaces"
   ]
  },
  {
   "cell_type": "code",
   "execution_count": 2,
   "metadata": {},
   "outputs": [
    {
     "name": "stdout",
     "output_type": "stream",
     "text": [
      "Current device: NVIDIA A100 80GB PCIe\n"
     ]
    }
   ],
   "source": [
    "import torch, numpy as np, random\n",
    "seed = 0\n",
    "torch.manual_seed(seed)\n",
    "np.random.seed(seed)\n",
    "random.seed(seed)\n",
    "\n",
    "if torch.cuda.is_available():\n",
    "    torch.cuda.manual_seed(seed)\n",
    "    torch.cuda.set_device(0)\n",
    "    DEVICE = torch.cuda.current_device()\n",
    "    print('Current device:', torch.cuda.get_device_name(DEVICE))\n",
    "else:\n",
    "    print('Failed to find GPU. Will use CPU.')\n",
    "    DEVICE = 'cpu'"
   ]
  },
  {
   "cell_type": "markdown",
   "metadata": {},
   "source": [
    "## Data"
   ]
  },
  {
   "cell_type": "code",
   "execution_count": 3,
   "metadata": {},
   "outputs": [],
   "source": [
    "BATCH_SIZE = 64\n",
    "\n",
    "SIMULATION_NAME = 'x48_y48_z32_Ra2500_Pr0.7_t0.01_snap0.3_dur300'\n",
    "\n",
    "HORIZONTAL_SIZE = int(SIMULATION_NAME.split('_')[0][1:])\n",
    "HEIGHT = int(SIMULATION_NAME.split('_')[2][1:])"
   ]
  },
  {
   "cell_type": "code",
   "execution_count": 4,
   "metadata": {},
   "outputs": [
    {
     "name": "stdout",
     "output_type": "stream",
     "text": [
      "Using 24030 training samples from 24030 available samples\n",
      "Using 8010 validation samples from 8010 available samples\n",
      "Using 8010 testing samples from 8010 available samples\n"
     ]
    }
   ],
   "source": [
    "sim_file = os.path.join('..', 'data', 'datasets', f'{SIMULATION_NAME}.h5')\n",
    "\n",
    "N_train_avail, N_valid_avail, N_test_avail = data_reader.num_samples(sim_file, ['train', 'valid', 'test'])\n",
    "\n",
    "# Reduce the amount of data manually\n",
    "N_train = N_train_avail # TODO may change\n",
    "N_valid = N_valid_avail # TODO may change\n",
    "N_test = N_test_avail # TODO may change\n",
    "\n",
    "train_dataset = data_reader.DataReader(sim_file, 'train', device=DEVICE, shuffle=True, samples=N_train)\n",
    "valid_dataset = data_reader.DataReader(sim_file, 'valid', device=DEVICE, shuffle=True, samples=N_valid)\n",
    "test_dataset = data_reader.DataReader(sim_file, 'test', device=DEVICE, shuffle=True, samples=N_test)\n",
    "\n",
    "train_loader = DataLoader(train_dataset, batch_size=BATCH_SIZE, num_workers=0, drop_last=False)\n",
    "valid_loader = DataLoader(valid_dataset, batch_size=BATCH_SIZE, num_workers=0, drop_last=False)\n",
    "test_loader = DataLoader(test_dataset, batch_size=BATCH_SIZE, num_workers=0, drop_last=False)\n",
    "\n",
    "print(f'Using {N_train} training samples from {N_train_avail} available samples')\n",
    "print(f'Using {N_valid} validation samples from {N_valid_avail} available samples')\n",
    "print(f'Using {N_test} testing samples from {N_test_avail} available samples')"
   ]
  },
  {
   "cell_type": "markdown",
   "metadata": {},
   "source": [
    "## Model Definition"
   ]
  },
  {
   "cell_type": "code",
   "execution_count": 5,
   "metadata": {},
   "outputs": [
    {
     "name": "stdout",
     "output_type": "stream",
     "text": [
      "+--------------+--------------------------------+------------+\n",
      "| Layer        | Output shape [c, |G|, w, d, h] | Parameters |\n",
      "+--------------+--------------------------------+------------+\n",
      "| Input        |             [4, 1, 48, 48, 32] |          0 |\n",
      "| EncoderConv1 |             [8, 8, 48, 48, 32] |     31,232 |\n",
      "| Pooling1     |             [8, 8, 24, 24, 16] |          0 |\n",
      "| EncoderConv2 |            [16, 8, 24, 24, 16] |    492,032 |\n",
      "| Pooling2     |             [16, 8, 12, 12, 8] |          0 |\n",
      "| EncoderConv3 |             [32, 8, 12, 12, 8] |    983,552 |\n",
      "| Pooling3     |               [32, 8, 6, 6, 4] |          0 |\n",
      "| EncoderConv4 |               [64, 8, 6, 6, 4] |  1,966,592 |\n",
      "| Pooling4     |               [64, 8, 3, 3, 2] |          0 |\n",
      "| LatentConv   |                [4, 8, 3, 3, 2] |    122,896 |\n",
      "| DecoderConv1 |               [64, 8, 3, 3, 2] |    123,136 |\n",
      "| Upsampling1  |               [64, 8, 6, 6, 4] |          0 |\n",
      "| DecoderConv2 |               [32, 8, 6, 6, 4] |  1,966,336 |\n",
      "| Upsampling2  |             [32, 8, 12, 12, 8] |          0 |\n",
      "| DecoderConv3 |             [16, 8, 12, 12, 8] |    983,296 |\n",
      "| Upsampling3  |            [16, 8, 24, 24, 16] |          0 |\n",
      "| DecoderConv4 |             [8, 8, 24, 24, 16] |    491,776 |\n",
      "| Upsampling4  |             [8, 8, 48, 48, 32] |          0 |\n",
      "| OutputConv   |             [4, 1, 48, 48, 32] |     30,784 |\n",
      "+--------------+--------------------------------+------------+\n",
      "\n",
      "Shape of latent space: [4, 8, 3, 3, 2]\n",
      "\n",
      "Latent-Input-Ratio: 0.20%\n",
      "\n",
      "Trainable parameters: 7,191,632\n"
     ]
    }
   ],
   "source": [
    "from models.steerable_cnn_model import RBSteerableAutoencoder\n",
    "from models.cnn_model import RBAutoencoder\n",
    "from models.cnn3d_model import RB3DAutoencoder\n",
    "\n",
    "H_KERNEL_SIZE, V_KERNEL_SIZE = 3, 5\n",
    "DROP_RATE = 0.2\n",
    "NONLINEARITY, STEERABLE_NONLINEARITY = torch.nn.ELU, escnn.nn.ELU\n",
    "\n",
    "# TODO experiment whether 1x1 kernel for latent and out conv are helpfull\n",
    "\n",
    "FLIPS, N = True, 4\n",
    "gspace = gspaces.flipRot2dOnR2 if FLIPS else gspaces.rot2dOnR2\n",
    "model = RBSteerableAutoencoder(gspace=gspace(N=4),\n",
    "                               rb_dims=(HORIZONTAL_SIZE, HORIZONTAL_SIZE, HEIGHT),\n",
    "                               encoder_channels=(8, 16, 32, 64),\n",
    "                               latent_channels=32//8, # 32 // |G|\n",
    "                               v_kernel_size=V_KERNEL_SIZE, h_kernel_size=H_KERNEL_SIZE,\n",
    "                               drop_rate=DROP_RATE, nonlinearity=STEERABLE_NONLINEARITY) \n",
    "\n",
    "# model = RBAutoencoder(rb_dims=(HORIZONTAL_SIZE, HORIZONTAL_SIZE, HEIGHT),\n",
    "#                       encoder_channels=(16, 32, 72, 145),\n",
    "#                       latent_channels=32,\n",
    "#                       v_kernel_size=V_KERNEL_SIZE, h_kernel_size=H_KERNEL_SIZE,\n",
    "#                       drop_rate=DROP_RATE, nonlinearity=NONLINEARITY)\n",
    "\n",
    "# model = RB3DAutoencoder(rb_dims=(HORIZONTAL_SIZE, HORIZONTAL_SIZE, HEIGHT),\n",
    "#                         encoder_channels=(40, 81, 162, 325),\n",
    "#                         latent_channels=32,\n",
    "#                         v_kernel_size=V_KERNEL_SIZE, h_kernel_size=H_KERNEL_SIZE,\n",
    "#                         drop_rate=DROP_RATE, nonlinearity=NONLINEARITY)\n",
    "\n",
    "model.to(DEVICE)\n",
    "\n",
    "model.summary()"
   ]
  },
  {
   "cell_type": "markdown",
   "metadata": {},
   "source": [
    "## Training"
   ]
  },
  {
   "cell_type": "code",
   "execution_count": 6,
   "metadata": {},
   "outputs": [],
   "source": [
    "models_dir = './trained_models'\n",
    "\n",
    "# Model\n",
    "model_name = {RBSteerableAutoencoder: f'{\"D\" if FLIPS else \"C\"}{N}cnn',\n",
    "              RBAutoencoder: 'cnn',\n",
    "              RB3DAutoencoder: '3Dcnn'}[model.__class__]\n",
    "start_epoch = 0 # loads pretrained model if greater 0, loads last available epoch for -1\n",
    "\n",
    "# Hyperparameters\n",
    "LEARNING_RATE = 1e-3\n",
    "LR_DECAY = 0.1\n",
    "LR_DECAY_EPOCHS = [10] # epochs at which the learning rate is multiplied by LR_DECAY\n",
    "USE_LR_SCHEDULER = False\n",
    "WEIGHT_DECAY = 0\n",
    "EPOCHS = 10\n",
    "EARLY_STOPPING = 20 # early stopping patience\n",
    "\n",
    "loss_fn = torch.nn.MSELoss()\n",
    "optimizer = torch.optim.Adam(model.parameters(), lr=LEARNING_RATE, weight_decay=WEIGHT_DECAY)\n",
    "# data augmentation only by 90° rotations for efficiency reasons\n",
    "data_augmentation = DataAugmentation(in_height=model.in_dims[-1], gspace=gspaces.flipRot2dOnR2(N=4))"
   ]
  },
  {
   "cell_type": "code",
   "execution_count": null,
   "metadata": {},
   "outputs": [
    {
     "data": {
      "application/vnd.jupyter.widget-view+json": {
       "model_id": "0a955406126142959fb4bcd0faa5ed13",
       "version_major": 2,
       "version_minor": 0
      },
      "text/plain": [
       "training:   0%|          | 0/10 [00:00<?, ?epoch/s]"
      ]
     },
     "metadata": {},
     "output_type": "display_data"
    },
    {
     "data": {
      "application/vnd.jupyter.widget-view+json": {
       "model_id": "91f84c301d114e688242abb18c307565",
       "version_major": 2,
       "version_minor": 0
      },
      "text/plain": [
       "epoch 1:   0%|          | 0/376 [00:00<?, ?batch/s]"
      ]
     },
     "metadata": {},
     "output_type": "display_data"
    }
   ],
   "source": [
    "from utils import training\n",
    "\n",
    "initial_early_stop_count = training.load_trained_model(model=model, optimizer=optimizer, models_dir=models_dir, \n",
    "                            model_name=model_name, epoch=start_epoch)\n",
    "lr_scheduler = torch.optim.lr_scheduler.MultiStepLR(optimizer, milestones=LR_DECAY_EPOCHS, \n",
    "                                                    gamma=LR_DECAY, last_epoch=start_epoch-1)\n",
    "\n",
    "training.train(model=model, models_dir=models_dir, model_name=model_name, start_epoch=0, epochs=EPOCHS, train_loader=train_loader, valid_loader=valid_loader, loss_fn=loss_fn, optimizer=optimizer, lr_scheduler=lr_scheduler, use_lr_scheduler=USE_LR_SCHEDULER, early_stopping=EARLY_STOPPING, only_save_best=True, train_samples=N_train, batch_size=BATCH_SIZE, data_augmentation=data_augmentation, plot=True, initial_early_stop_count=initial_early_stop_count)\n"
   ]
  },
  {
   "cell_type": "markdown",
   "metadata": {},
   "source": [
    "## Evaluation"
   ]
  },
  {
   "cell_type": "markdown",
   "metadata": {},
   "source": [
    "### Equivariance"
   ]
  },
  {
   "cell_type": "code",
   "execution_count": 49,
   "metadata": {},
   "outputs": [],
   "source": [
    "if isinstance(model, escnn.nn.EquivariantModule): # only supported by steerable cnn\n",
    "    model.check_equivariance(gpu_device=DEVICE, atol=1e-3) "
   ]
  },
  {
   "cell_type": "markdown",
   "metadata": {},
   "source": [
    "### MSE"
   ]
  },
  {
   "cell_type": "code",
   "execution_count": 50,
   "metadata": {},
   "outputs": [
    {
     "data": {
      "text/plain": [
       "0.562549538910389"
      ]
     },
     "execution_count": 50,
     "metadata": {},
     "output_type": "execute_result"
    }
   ],
   "source": [
    "from utils.evaluation import compute_test_loss\n",
    "\n",
    "compute_test_loss(model, test_loader, loss_fn)"
   ]
  },
  {
   "cell_type": "markdown",
   "metadata": {},
   "source": [
    "### Animation"
   ]
  },
  {
   "cell_type": "code",
   "execution_count": 51,
   "metadata": {},
   "outputs": [],
   "source": [
    "from utils.visualization import auto_encoder_animation\n",
    "from IPython.display import Video"
   ]
  },
  {
   "cell_type": "markdown",
   "metadata": {},
   "source": [
    "**Width slice**"
   ]
  },
  {
   "cell_type": "code",
   "execution_count": 52,
   "metadata": {},
   "outputs": [
    {
     "data": {
      "text/html": [
       "<video src=\"animations/width.mp4\" controls  >\n",
       "      Your browser does not support the <code>video</code> element.\n",
       "    </video>"
      ],
      "text/plain": [
       "<IPython.core.display.Video object>"
      ]
     },
     "execution_count": 52,
     "metadata": {},
     "output_type": "execute_result"
    },
    {
     "data": {
      "image/png": "[encoded data removed]",
      "text/plain": [
       "<Figure size 640x480 with 2 Axes>"
      ]
     },
     "metadata": {},
     "output_type": "display_data"
    }
   ],
   "source": [
    "auto_encoder_animation(slice=24, fps=30, frames=1000, feature='t', \n",
    "                       axis=0, animation_name='animations/width', \n",
    "                       model=model, sim_file=sim_file, device=DEVICE)\n",
    "\n",
    "\n",
    "Video(\"animations/width.mp4\")"
   ]
  },
  {
   "cell_type": "markdown",
   "metadata": {},
   "source": [
    "**Depth slice**"
   ]
  },
  {
   "cell_type": "code",
   "execution_count": null,
   "metadata": {},
   "outputs": [
    {
     "data": {
      "text/html": [
       "<video src=\"animations/depth.mp4\" controls  >\n",
       "      Your browser does not support the <code>video</code> element.\n",
       "    </video>"
      ],
      "text/plain": [
       "<IPython.core.display.Video object>"
      ]
     },
     "execution_count": 53,
     "metadata": {},
     "output_type": "execute_result"
    },
    {
     "data": {
      "image/png": "[encoded data removed]",
      "text/plain": [
       "<Figure size 640x480 with 2 Axes>"
      ]
     },
     "metadata": {},
     "output_type": "display_data"
    }
   ],
   "source": [
    "auto_encoder_animation(slice=24, fps=30, frames=1000, feature='t', \n",
    "                       axis=1, animation_name='animations/depth', \n",
    "                       model=model, sim_file=sim_file, device=DEVICE)\n",
    "\n",
    "Video(\"animations/depth.mp4\")"
   ]
  },
  {
   "cell_type": "markdown",
   "metadata": {},
   "source": [
    "**Height slice**"
   ]
  },
  {
   "cell_type": "code",
   "execution_count": 54,
   "metadata": {},
   "outputs": [
    {
     "data": {
      "text/html": [
       "<video src=\"animations/height.mp4\" controls  >\n",
       "      Your browser does not support the <code>video</code> element.\n",
       "    </video>"
      ],
      "text/plain": [
       "<IPython.core.display.Video object>"
      ]
     },
     "execution_count": 54,
     "metadata": {},
     "output_type": "execute_result"
    },
    {
     "data": {
      "image/png": "[encoded data removed]",
      "text/plain": [
       "<Figure size 640x480 with 2 Axes>"
      ]
     },
     "metadata": {},
     "output_type": "display_data"
    }
   ],
   "source": [
    "auto_encoder_animation(slice=16, fps=30, frames=1000, feature='t', \n",
    "                       axis=2, animation_name='animations/height', \n",
    "                       model=model, sim_file=sim_file, device=DEVICE)\n",
    "\n",
    "Video(\"animations/height.mp4\")"
   ]
  }
 ],
 "metadata": {
  "kernelspec": {
   "display_name": "escnn",
   "language": "python",
   "name": "python3"
  },
  "language_info": {
   "codemirror_mode": {
    "name": "ipython",
    "version": 3
   },
   "file_extension": ".py",
   "mimetype": "text/x-python",
   "name": "python",
   "nbconvert_exporter": "python",
   "pygments_lexer": "ipython3",
   "version": "3.11.10"
  }
 },
 "nbformat": 4,
 "nbformat_minor": 2
}
